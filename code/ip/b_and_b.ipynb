{
 "cells": [
  {
   "cell_type": "markdown",
   "id": "9c40c0f1-8fd0-41bf-915d-fabd7400d602",
   "metadata": {},
   "source": [
    "# Branch and Bound Algorithm for Solving Mixed Integer Programs (MIPs) or Binary Integer Programs (BIPs)\n",
    "\n",
    "- The idea of the Branch & Bound algorithm is to indirectly arrive at an integer solution by running multiple linear programs that do not have constraints on the integer variables.  Multiple constraints are successively added that in some cases force solutions to have integer decision variables.  \n",
    "- Integer solutions thus obtained may or may not be an optimal solution because the constraints break the preceding model into two parts: the other subpart might have a better solution.  These integer solutions are, therefore, a lower bound (__bound__) on the best possible solution.\n",
    "- Non-integer solutions for a subproblem are possible upper bounds on the best possible objective function value if the solution is less than previous upper bounds (__bound__).\n",
    "- Breaking an existing problem into two with two mutually exclusive but exhaustive constraints is called __branching__.\n",
    "- Termination of a branch: __pruning__\n",
    "  - A branch does not need to investigated further if its solution, either integer or not, when its solution is less than the current lower bound\n",
    "  - A branch does not need to be investigated further if the problem is infeasible: no other subproblems on that branch will be feasible.\n",
    "- Termination of the algorithm\n",
    "  - The optimal solution has been found when the current integer solution has an objective function (lower bound) greater than the solutions on all other branches (which, of course, have been pruned)."
   ]
  },
  {
   "cell_type": "markdown",
   "id": "0fe8df05-c554-4b45-9fde-32510b8c5360",
   "metadata": {},
   "source": [
    "## Example Problem\n",
    "\n",
    "Your company makes two pieces of furniture: a sofa and a chair. Each sofa sold brings in \\$20 (in hundreds) and each chair brings in \\$10 (in hundreds) of revenue. Production of these two products consumes two different resource, which we will generically call \"resource 1\" and \"resource 2\". You have 120 units of resource 1 and 160 units of resource two available for the next production cycle. Each sofa requires 4 units of resource 1 and 7 units of resource 2. Each chair requires 3 units of resource 1 and 2 units of resource 2. Additionally, you want to produce at most 32 chairs during the next production cycle. \n",
    "\n",
    "We can formulate this problem as:\n",
    "\n",
    "| | | |\n",
    "| --- | --- | --- |\n",
    "| Let | | |\n",
    "| $x_{s}$ | = | number of sofas to make next production cycle |\n",
    "| $x_{c}$ | = | number of chairs to make next production cycle |\n",
    "\n",
    "| | | | | | | |\n",
    "| --- | --- | --- | --- | --- | --- | --- |\n",
    "| $\\max$ | $20x_{s}$ | $+$ | $10x_{c}$ | | | |\n",
    "| s.t. | $4x_{s}$ | $+$ | $3x_{c}$ | $\\le$ | $120$ | {resource 1} |\n",
    "| | $7x_{s}$ | $+$ | $2x_{c}$ | $\\le$ | $160$ | {resource 2} |\n",
    "| | | | $x_{c}$ | $\\le$ | $32$ | {maximum number of chairs to make} |\n",
    "| | $x_{s}$ | | | $\\ge$ | $0$ | {non-negativity} |\n",
    "| | | | $x_{c}$ | $\\ge$ | $0$ | {non-negativity} |"
   ]
  },
  {
   "cell_type": "code",
   "execution_count": null,
   "id": "242d96b3-261c-4f34-8243-430d930d9b49",
   "metadata": {},
   "outputs": [],
   "source": [
    "import gurobipy as gp\n",
    "from gurobipy import GRB"
   ]
  },
  {
   "cell_type": "code",
   "execution_count": null,
   "id": "6d2ea954-a3cd-4816-aebc-1a8198eca548",
   "metadata": {},
   "outputs": [],
   "source": [
    "# Define data\n",
    "constraint_matrix = [[4,3], [7,2], [0,1]]\n",
    "rhs = [120, 160, 32]\n",
    "obj_fn_coeff = [20, 10]\n",
    "products = ['sofa', 'chair']"
   ]
  },
  {
   "cell_type": "code",
   "execution_count": null,
   "id": "ae2949a4-8959-4283-bfff-a4172d0815d1",
   "metadata": {},
   "outputs": [],
   "source": [
    "# create the Gurobi model\n",
    "m = gp.Model('show_b_and_b')\n",
    "\n",
    "# specify model sense\n",
    "m.ModelSense = GRB.MAXIMIZE\n",
    "\n",
    "# Create decision variables\n",
    "x = [m.addVar(vtype=GRB.CONTINUOUS, name=f'x_{products[i]}') for i in range(len(products))]\n",
    "\n",
    "# update\n",
    "m.update()\n",
    "\n",
    "# Create objective function\n",
    "m.setObjective(gp.quicksum(obj_fn_coeff[i]*x[i] for i in range(len(obj_fn_coeff))))\n",
    "\n",
    "# Create the constraints\n",
    "for i in range(len(rhs)):\n",
    "    m.addConstr((gp.quicksum(constraint_matrix[i][j]*x[j] for j in range(len(constraint_matrix[i]))) <= rhs[i]),\n",
    "                name=f'constr_{i}')\n",
    "\n",
    "m.update()\n",
    "m.display()"
   ]
  },
  {
   "cell_type": "code",
   "execution_count": null,
   "id": "415a93e0-214d-4ec8-b444-3a327cd949fe",
   "metadata": {},
   "outputs": [],
   "source": [
    "# solve it\n",
    "m.optimize()\n",
    "\n",
    "# print results\n",
    "for var in m.getVars():\n",
    "    print(f'Variable: {var.varName}, Optimal Value: {var.X}, (LB,UB): ({var.lb}, {var.ub})')"
   ]
  },
  {
   "cell_type": "markdown",
   "id": "1515b7db-99f0-4aa3-85f0-387241de702e",
   "metadata": {},
   "source": [
    "## Build a Function to Create the Base LP\n",
    "\n",
    "We will need to run \"many\" optimizations based on the base LP relaxation. Therefore, it makes sense to write a function that can build and return this model. The function should return a Gurobi model (`m`) and the decision variables (`x`) that are needed to add constraints in the branch and bound algorithm."
   ]
  },
  {
   "cell_type": "code",
   "execution_count": null,
   "id": "9106ae1b-01ae-4f66-9113-a683ad7ceed8",
   "metadata": {},
   "outputs": [],
   "source": [
    "def create_base_lp(A, b, c, name='fun'):\n",
    "    '''\n",
    "    This function creates the base LP model. It has the following \n",
    "\n",
    "    Parameters:\n",
    "    ============\n",
    "    A : the constraint coefficient matrix\n",
    "    b : the right-hand-side coefficients for constraints\n",
    "    c : coefficient in the objective function\n",
    "    name : default is 'fun'\n",
    "\n",
    "    returns:\n",
    "    ==========\n",
    "    m : the Gurobi model object\n",
    "    x : the variables\n",
    "    '''\n",
    "    import gurobipy as gp\n",
    "    from gurobipy import GRB\n",
    "\n",
    "    # Create the Gurobi model\n",
    "    m = gp.Model(name)\n",
    "\n",
    "    # specify model sense\n",
    "    m.ModelSense = GRB.MAXIMIZE\n",
    "\n",
    "    # Create variables\n",
    "    x = m.addVars(len(A[0]), vtype=GRB.CONTINUOUS, name='x')\n",
    "\n",
    "    # Create objective function\n",
    "    m.setObjective(gp.quicksum(c[i]*x[i] for i in range(len(c))))\n",
    "\n",
    "    # Create constraints\n",
    "    for i in range(len(b)):\n",
    "        m.addConstr((gp.quicksum(A[i][j]*x[j] for j in range(len(A[i]))) <= b[i]),\n",
    "                   name=f'constr_{i}')\n",
    "\n",
    "    # update the model\n",
    "    m.update()\n",
    "\n",
    "    return m, x"
   ]
  },
  {
   "cell_type": "code",
   "execution_count": null,
   "id": "3913a7ac-daf3-4a94-bd15-29d7445c646a",
   "metadata": {},
   "outputs": [],
   "source": [
    "create_base_lp(constraint_matrix, rhs, obj_fn_coeff, \"hello\")"
   ]
  },
  {
   "cell_type": "markdown",
   "id": "f18fac86-a790-4766-a0d9-d58c35bc8e46",
   "metadata": {},
   "source": [
    "## Branch on $x_{s}$\n",
    "\n",
    "Want to try two things: $\\leq 18$ and $\\geq 19$\n",
    "\n",
    "### Add Constraint $x_{s} \\leq 18$"
   ]
  },
  {
   "cell_type": "code",
   "execution_count": null,
   "id": "8b0427f4-bb66-4494-a223-a9b85c1b32dc",
   "metadata": {},
   "outputs": [],
   "source": [
    "m, x = create_base_lp(constraint_matrix, rhs, obj_fn_coeff)\n",
    "\n",
    "m.addConstr(x[0] <= 18)\n",
    "m.update()\n",
    "m.optimize()\n",
    "\n",
    "# print results\n",
    "for var in m.getVars():\n",
    "    print(f'Variable: {var.varName}, Optimal Value: {var.X}, (LB,UB): ({var.lb}, {var.ub})')"
   ]
  },
  {
   "cell_type": "markdown",
   "id": "87b2175b-1dd4-4ded-82da-6879a3e1089e",
   "metadata": {},
   "source": [
    "## Branch on $x_{s}$\n",
    "\n",
    "Want to try two things: $\\leq 18$ and $\\geq 19$\n",
    "\n",
    "### Add Constraint $x_{s} \\geq 19$"
   ]
  },
  {
   "cell_type": "code",
   "execution_count": null,
   "id": "ec6cf343-374a-47d0-9db6-884de204df34",
   "metadata": {},
   "outputs": [],
   "source": [
    "m, x = create_base_lp(constraint_matrix, rhs, obj_fn_coeff)\n",
    "\n",
    "m.addConstr(x[0] >= 19)\n",
    "m.update()\n",
    "m.optimize()\n",
    "\n",
    "# print results\n",
    "for var in m.getVars():\n",
    "    print(f'Variable: {var.varName}, Optimal Value: {var.X}, (LB,UB): ({var.lb}, {var.ub})')"
   ]
  },
  {
   "cell_type": "markdown",
   "id": "b6fce53a-87a0-4bbd-bd29-1468c64a4782",
   "metadata": {},
   "source": [
    "## Verifying by Solving the IP\n",
    "\n",
    "Let's verify that $x_s=18$ and $x_c=16$ with an objective function value of \\$520 (hundreds) is the optimal integer solution by creating integer variables in the model and solving it that way."
   ]
  },
  {
   "cell_type": "code",
   "execution_count": null,
   "id": "68a3837b-118d-4f9b-bd10-088caa8911f0",
   "metadata": {},
   "outputs": [],
   "source": [
    "# create the Gurobi model\n",
    "m_ip = gp.Model('verify_IP_soln')\n",
    "\n",
    "# specify model sense\n",
    "m_ip.ModelSense = GRB.MAXIMIZE\n",
    "\n",
    "# Create decision variables\n",
    "x = [m_ip.addVar(vtype=GRB.INTEGER, name=f'x_{products[i]}') for i in range(len(products))]\n",
    "\n",
    "# update\n",
    "m_ip.update()\n",
    "\n",
    "# Create objective function\n",
    "m_ip.setObjective(gp.quicksum(obj_fn_coeff[i]*x[i] for i in range(len(obj_fn_coeff))))\n",
    "\n",
    "# Create the constraints\n",
    "for i in range(len(rhs)):\n",
    "    m_ip.addConstr((gp.quicksum(constraint_matrix[i][j]*x[j] for j in range(len(constraint_matrix[i]))) <= rhs[i]),\n",
    "                name=f'constr_{i}')\n",
    "\n",
    "m_ip.update()\n",
    "m_ip.display()"
   ]
  },
  {
   "cell_type": "code",
   "execution_count": null,
   "id": "16db53c5-d6fd-493b-8c4c-c1f67bd7eb81",
   "metadata": {},
   "outputs": [],
   "source": [
    "# solve it\n",
    "m_ip.optimize()\n",
    "\n",
    "# print results\n",
    "for var in m_ip.getVars():\n",
    "    print(f'Variable: {var.varName}, Optimal Value: {var.X}, (LB,UB): ({var.lb}, {var.ub})')"
   ]
  },
  {
   "cell_type": "markdown",
   "id": "f4cfbfc5-3ec7-43b4-832c-6eb589b6e55c",
   "metadata": {
    "deletable": false,
    "editable": false,
    "slideshow": {
     "slide_type": ""
    },
    "tags": []
   },
   "source": [
    "**&copy; 2024 - Present: Matthew D. Dean, Ph.D.   \n",
    "Clinical Professor of Business Analytics at William \\& Mary.**"
   ]
  }
 ],
 "metadata": {
  "kernelspec": {
   "display_name": "Python 3 (ipykernel)",
   "language": "python",
   "name": "python3"
  },
  "language_info": {
   "codemirror_mode": {
    "name": "ipython",
    "version": 3
   },
   "file_extension": ".py",
   "mimetype": "text/x-python",
   "name": "python",
   "nbconvert_exporter": "python",
   "pygments_lexer": "ipython3",
   "version": "3.12.7"
  }
 },
 "nbformat": 4,
 "nbformat_minor": 5
}
