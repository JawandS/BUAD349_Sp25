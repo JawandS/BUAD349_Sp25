{
 "cells": [
  {
   "cell_type": "code",
   "execution_count": null,
   "id": "e926444d",
   "metadata": {},
   "outputs": [],
   "source": [
    "# import the proper packages\n",
    "import pandas as pd\n",
    "import gurobipy as gp\n",
    "from gurobipy import GRB"
   ]
  },
  {
   "cell_type": "markdown",
   "id": "618e37cf-594c-4015-8272-a4d3cfe2557e",
   "metadata": {},
   "source": [
    "## Gourmet Gizmos\n",
    "\n",
    "Assume that 3 plant locations are up and running so you don't have to worry about fixed costs."
   ]
  },
  {
   "cell_type": "code",
   "execution_count": null,
   "id": "023d0eba",
   "metadata": {},
   "outputs": [],
   "source": [
    "# Start with Gourmet Gizmos\n",
    "# Get data\n",
    "# Gourmet Gizmos demand is in a sheet called 'gg_demand'\n"
   ]
  },
  {
   "cell_type": "code",
   "execution_count": null,
   "id": "5cc884f0",
   "metadata": {},
   "outputs": [],
   "source": [
    "# Convert demand to a dictionary\n"
   ]
  },
  {
   "cell_type": "code",
   "execution_count": null,
   "id": "0d6f3f1a",
   "metadata": {},
   "outputs": [],
   "source": [
    "# Create the markets as a list\n"
   ]
  },
  {
   "cell_type": "code",
   "execution_count": null,
   "id": "eecf324e",
   "metadata": {},
   "outputs": [],
   "source": [
    "# Get data\n",
    "# the capacity, variable, and fixed costs are in a sheet labeled 'gg_costs_and_cap'\n"
   ]
  },
  {
   "cell_type": "code",
   "execution_count": null,
   "id": "164ab13d",
   "metadata": {},
   "outputs": [],
   "source": [
    "# Create the plants as a list\n"
   ]
  },
  {
   "cell_type": "code",
   "execution_count": null,
   "id": "38050b62",
   "metadata": {},
   "outputs": [],
   "source": [
    "# Create a dictionary to hold the capacity for each plant\n"
   ]
  },
  {
   "cell_type": "code",
   "execution_count": null,
   "id": "4d9ba6c6",
   "metadata": {},
   "outputs": [],
   "source": [
    "# Create a dictionary to hold the fixed cost for each plant\n"
   ]
  },
  {
   "cell_type": "code",
   "execution_count": null,
   "id": "2576fb8d",
   "metadata": {},
   "outputs": [],
   "source": [
    "# Get data\n",
    "# Transportation costs are in our gg_costs_and_cap DataFrame\n"
   ]
  },
  {
   "cell_type": "code",
   "execution_count": null,
   "id": "e5f01a7e",
   "metadata": {},
   "outputs": [],
   "source": [
    "# Convert costs to a list of lists\n"
   ]
  },
  {
   "cell_type": "code",
   "execution_count": null,
   "id": "e06bfb55-7640-4da1-bc52-e4b546402e05",
   "metadata": {},
   "outputs": [],
   "source": [
    "# Create the model instance and set to minimize\n"
   ]
  },
  {
   "cell_type": "code",
   "execution_count": null,
   "id": "dff85340-4682-4b7b-909c-3fab3469086c",
   "metadata": {},
   "outputs": [],
   "source": [
    "# Create the flow variables from plants to markets\n",
    "\n",
    "\n",
    "# Update the model and display\n"
   ]
  },
  {
   "cell_type": "code",
   "execution_count": null,
   "id": "9fefddd3-f10e-49af-93bc-cdfe6a18e999",
   "metadata": {},
   "outputs": [],
   "source": [
    "# Make sure you meet demand for each market\n",
    "\n",
    "\n",
    "# Update and display\n"
   ]
  },
  {
   "cell_type": "code",
   "execution_count": null,
   "id": "a364c65a-a49b-4975-ac61-ad4a0039694b",
   "metadata": {},
   "outputs": [],
   "source": [
    "# Make sure stay under copacity at plants\n",
    "\n",
    "\n",
    "# Update and display\n"
   ]
  },
  {
   "cell_type": "code",
   "execution_count": null,
   "id": "8e907bb9-d503-4d22-8014-904602b4bf21",
   "metadata": {},
   "outputs": [],
   "source": [
    "# Solve\n"
   ]
  },
  {
   "cell_type": "code",
   "execution_count": null,
   "id": "8bcaa932-2b60-4228-9b62-3ee7c5f703fe",
   "metadata": {},
   "outputs": [],
   "source": [
    "# Print answer\n"
   ]
  },
  {
   "cell_type": "markdown",
   "id": "36c6798b-9260-4c85-815a-054da76c1ba4",
   "metadata": {},
   "source": [
    "## Culinary Compacts\n",
    "\n",
    "Assume the two supply locations are already up and running so you do not need to incorporate the fixed costs."
   ]
  },
  {
   "cell_type": "code",
   "execution_count": null,
   "id": "8fc7b342-8fe0-40b8-a911-9db6e7ed7bfc",
   "metadata": {},
   "outputs": [],
   "source": [
    "# Culinary Compacts\n",
    "# Get data\n",
    "# Culinary Compacts demand is in a sheet called 'cc_demand'\n"
   ]
  },
  {
   "cell_type": "code",
   "execution_count": null,
   "id": "db379c99",
   "metadata": {},
   "outputs": [],
   "source": [
    "# Convert demand to a dictionary\n"
   ]
  },
  {
   "cell_type": "code",
   "execution_count": null,
   "id": "cea155b9-5bc9-4ba4-ab8e-35114c888299",
   "metadata": {},
   "outputs": [],
   "source": [
    "# Create the markets as a list\n"
   ]
  },
  {
   "cell_type": "code",
   "execution_count": null,
   "id": "972f61f8-942d-4f9e-8abd-37e21beb9cad",
   "metadata": {},
   "outputs": [],
   "source": [
    "# Get data\n",
    "# the capacity, variable, and fixed costs are in a sheet labeled 'gg_costs_and_cap'\n"
   ]
  },
  {
   "cell_type": "code",
   "execution_count": null,
   "id": "fbc0e766-9266-4ecb-89f3-4852fa218b97",
   "metadata": {},
   "outputs": [],
   "source": [
    "# Create the plants as a list\n"
   ]
  },
  {
   "cell_type": "code",
   "execution_count": null,
   "id": "aa03e233-c6ca-4228-854d-efc79c91c963",
   "metadata": {},
   "outputs": [],
   "source": [
    "# Create a dictionary to hold the capacity for each plant\n"
   ]
  },
  {
   "cell_type": "code",
   "execution_count": null,
   "id": "8ebf8e72-dea3-4bcb-94ce-1b28ed60e5d1",
   "metadata": {},
   "outputs": [],
   "source": [
    "# Create a dictionary to hold the fixed cost for each plant\n"
   ]
  },
  {
   "cell_type": "code",
   "execution_count": null,
   "id": "1de843c4-15c0-4a4d-9baa-2bcf19779795",
   "metadata": {},
   "outputs": [],
   "source": [
    "# Get data\n",
    "# Transportation costs are in our cc_costs_and_cap DataFrame\n"
   ]
  },
  {
   "cell_type": "code",
   "execution_count": null,
   "id": "a5040601-c6c8-414e-a418-18d5cf4c3106",
   "metadata": {},
   "outputs": [],
   "source": [
    "# Convert costs to a list of lists\n"
   ]
  },
  {
   "cell_type": "code",
   "execution_count": null,
   "id": "012a6155-6e82-4a61-8e9b-8b06e632e665",
   "metadata": {},
   "outputs": [],
   "source": [
    "# Create the model instance and set to minimize\n",
    "\n",
    "\n",
    "# Create the flow variables from plants to markets\n",
    "\n",
    "\n",
    "# Make sure you meet demand for each market\n",
    "\n",
    "\n",
    "# Make sure stay under copacity at plants\n",
    "\n",
    "\n",
    "# Update and display\n"
   ]
  },
  {
   "cell_type": "code",
   "execution_count": null,
   "id": "864fb42a-1cef-4cd9-9540-84d3bffaaa91",
   "metadata": {},
   "outputs": [],
   "source": [
    "# solve\n"
   ]
  },
  {
   "cell_type": "code",
   "execution_count": null,
   "id": "6e377d6d-9d49-46a7-b757-5ebc45c27046",
   "metadata": {},
   "outputs": [],
   "source": [
    "# Print answer\n"
   ]
  },
  {
   "cell_type": "markdown",
   "id": "af9aca5e-0421-4904-bd71-590f039ef6ed",
   "metadata": {},
   "source": [
    "## Combined Company - Culinary Gizmos\n",
    "\n",
    "Now we need to incorporate the fixed costs for each manufacturing plant when deciding the best design configuration."
   ]
  },
  {
   "cell_type": "code",
   "execution_count": null,
   "id": "e4291366-afde-4e5c-a79a-a51c54db4e3a",
   "metadata": {},
   "outputs": [],
   "source": [
    "# Culinary Gizmos - the combined company\n",
    "# Get data\n",
    "# Culinary Gizmos demand is in a sheet called 'combined_demand'\n",
    "\n",
    "\n",
    "# Convert demand to a dictionary\n",
    "\n",
    "\n",
    "# Create the markets as a list\n"
   ]
  },
  {
   "cell_type": "code",
   "execution_count": null,
   "id": "1c675490-5924-415c-a6dd-9dcd6dac900a",
   "metadata": {},
   "outputs": [],
   "source": [
    "# Get data\n",
    "# the capacity, variable, and fixed costs are in a sheet labeled 'combined_costs_and_cap'\n"
   ]
  },
  {
   "cell_type": "code",
   "execution_count": null,
   "id": "ff4bf22c-0da1-4f88-bcd5-c1051d7c820b",
   "metadata": {},
   "outputs": [],
   "source": [
    "# Create the plants as a list\n",
    "\n",
    "\n",
    "# Create a dictionary to hold the capacity for each plant\n",
    "\n",
    "\n",
    "# Create a dictionary to hold the fixed cost for each plant\n",
    "\n",
    "\n",
    "# Get data\n",
    "# Transportation costs are in our all_costs_and_cap DataFrame\n",
    "\n",
    "\n",
    "# Convert costs to a list of lists\n"
   ]
  },
  {
   "cell_type": "code",
   "execution_count": null,
   "id": "150fb6bf-1196-41e0-bbaa-af7b0db3c23e",
   "metadata": {},
   "outputs": [],
   "source": [
    "# Create the model instance and set to minimize\n",
    "\n",
    "\n",
    "# Create the flow variables from plants to markets\n",
    "\n",
    "\n",
    "# Create the binary variables to open plants\n",
    "\n",
    "\n",
    "# update\n",
    "\n",
    "\n",
    "# Make sure you meet demand for each market\n",
    "\n",
    "\n",
    "# Make sure stay under copacity at plants\n",
    "\n",
    "\n",
    "# Update and display\n"
   ]
  },
  {
   "cell_type": "code",
   "execution_count": null,
   "id": "3697f0dc-c73c-4a7b-96fd-2cd1cf9664aa",
   "metadata": {},
   "outputs": [],
   "source": [
    "# solve\n"
   ]
  },
  {
   "cell_type": "code",
   "execution_count": null,
   "id": "8f9ab7dd-49cc-4fa7-9057-a40169866960",
   "metadata": {},
   "outputs": [],
   "source": [
    "# Print answer\n"
   ]
  },
  {
   "cell_type": "code",
   "execution_count": null,
   "id": "1fbb8586-9304-4c14-b56d-70f8e88032e4",
   "metadata": {},
   "outputs": [],
   "source": []
  }
 ],
 "metadata": {
  "kernelspec": {
   "display_name": "Python 3 (ipykernel)",
   "language": "python",
   "name": "python3"
  },
  "language_info": {
   "codemirror_mode": {
    "name": "ipython",
    "version": 3
   },
   "file_extension": ".py",
   "mimetype": "text/x-python",
   "name": "python",
   "nbconvert_exporter": "python",
   "pygments_lexer": "ipython3",
   "version": "3.12.7"
  }
 },
 "nbformat": 4,
 "nbformat_minor": 5
}
