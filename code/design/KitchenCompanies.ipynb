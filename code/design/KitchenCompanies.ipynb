{
 "cells": [
  {
   "cell_type": "code",
   "execution_count": 91,
   "id": "e926444d",
   "metadata": {},
   "outputs": [],
   "source": [
    "# import the proper packages\n",
    "import pandas as pd\n",
    "import gurobipy as gp\n",
    "from gurobipy import GRB"
   ]
  },
  {
   "cell_type": "markdown",
   "id": "618e37cf-594c-4015-8272-a4d3cfe2557e",
   "metadata": {},
   "source": [
    "## Gourmet Gizmos\n",
    "\n",
    "Assume that 3 plant locations are up and running so you don't have to worry about fixed costs."
   ]
  },
  {
   "cell_type": "code",
   "execution_count": 92,
   "id": "023d0eba",
   "metadata": {},
   "outputs": [
    {
     "data": {
      "text/html": [
       "<div>\n",
       "<style scoped>\n",
       "    .dataframe tbody tr th:only-of-type {\n",
       "        vertical-align: middle;\n",
       "    }\n",
       "\n",
       "    .dataframe tbody tr th {\n",
       "        vertical-align: top;\n",
       "    }\n",
       "\n",
       "    .dataframe thead th {\n",
       "        text-align: right;\n",
       "    }\n",
       "</style>\n",
       "<table border=\"1\" class=\"dataframe\">\n",
       "  <thead>\n",
       "    <tr style=\"text-align: right;\">\n",
       "      <th></th>\n",
       "      <th>demand</th>\n",
       "    </tr>\n",
       "    <tr>\n",
       "      <th>city</th>\n",
       "      <th></th>\n",
       "    </tr>\n",
       "  </thead>\n",
       "  <tbody>\n",
       "    <tr>\n",
       "      <th>Atlanta</th>\n",
       "      <td>10</td>\n",
       "    </tr>\n",
       "    <tr>\n",
       "      <th>Boston</th>\n",
       "      <td>8</td>\n",
       "    </tr>\n",
       "    <tr>\n",
       "      <th>Chicago</th>\n",
       "      <td>14</td>\n",
       "    </tr>\n",
       "  </tbody>\n",
       "</table>\n",
       "</div>"
      ],
      "text/plain": [
       "         demand\n",
       "city           \n",
       "Atlanta      10\n",
       "Boston        8\n",
       "Chicago      14"
      ]
     },
     "execution_count": 92,
     "metadata": {},
     "output_type": "execute_result"
    }
   ],
   "source": [
    "# Start with Gourmet Gizmos\n",
    "# Get data\n",
    "# Gourmet Gizmos demand is in a sheet called 'gg_demand'\n",
    "gg_demand = pd.read_excel('KitchenCompanies.xlsx', sheet_name='gg_demand', index_col=0)\n",
    "gg_demand"
   ]
  },
  {
   "cell_type": "code",
   "execution_count": 93,
   "id": "5cc884f0",
   "metadata": {},
   "outputs": [
    {
     "data": {
      "text/plain": [
       "{'Atlanta': 10, 'Boston': 8, 'Chicago': 14}"
      ]
     },
     "execution_count": 93,
     "metadata": {},
     "output_type": "execute_result"
    }
   ],
   "source": [
    "# Convert demand to a dictionary\n",
    "gg_demand = gg_demand.to_dict()['demand']\n",
    "gg_demand"
   ]
  },
  {
   "cell_type": "code",
   "execution_count": 94,
   "id": "0d6f3f1a",
   "metadata": {},
   "outputs": [
    {
     "data": {
      "text/plain": [
       "['Atlanta', 'Boston', 'Chicago']"
      ]
     },
     "execution_count": 94,
     "metadata": {},
     "output_type": "execute_result"
    }
   ],
   "source": [
    "# Create the markets as a list\n",
    "markets = list(gg_demand.keys())\n",
    "markets"
   ]
  },
  {
   "cell_type": "code",
   "execution_count": 95,
   "id": "eecf324e",
   "metadata": {},
   "outputs": [
    {
     "data": {
      "text/html": [
       "<div>\n",
       "<style scoped>\n",
       "    .dataframe tbody tr th:only-of-type {\n",
       "        vertical-align: middle;\n",
       "    }\n",
       "\n",
       "    .dataframe tbody tr th {\n",
       "        vertical-align: top;\n",
       "    }\n",
       "\n",
       "    .dataframe thead th {\n",
       "        text-align: right;\n",
       "    }\n",
       "</style>\n",
       "<table border=\"1\" class=\"dataframe\">\n",
       "  <thead>\n",
       "    <tr style=\"text-align: right;\">\n",
       "      <th></th>\n",
       "      <th>Atlanta</th>\n",
       "      <th>Boston</th>\n",
       "      <th>Chicago</th>\n",
       "      <th>monthly_capacity</th>\n",
       "      <th>monthly_fc</th>\n",
       "    </tr>\n",
       "    <tr>\n",
       "      <th>supply_city</th>\n",
       "      <th></th>\n",
       "      <th></th>\n",
       "      <th></th>\n",
       "      <th></th>\n",
       "      <th></th>\n",
       "    </tr>\n",
       "  </thead>\n",
       "  <tbody>\n",
       "    <tr>\n",
       "      <th>Bethesda</th>\n",
       "      <td>1675</td>\n",
       "      <td>400</td>\n",
       "      <td>685</td>\n",
       "      <td>18</td>\n",
       "      <td>7650</td>\n",
       "    </tr>\n",
       "    <tr>\n",
       "      <th>Memphis</th>\n",
       "      <td>380</td>\n",
       "      <td>1355</td>\n",
       "      <td>543</td>\n",
       "      <td>22</td>\n",
       "      <td>4100</td>\n",
       "    </tr>\n",
       "    <tr>\n",
       "      <th>Kansas_City</th>\n",
       "      <td>922</td>\n",
       "      <td>1646</td>\n",
       "      <td>700</td>\n",
       "      <td>31</td>\n",
       "      <td>2200</td>\n",
       "    </tr>\n",
       "  </tbody>\n",
       "</table>\n",
       "</div>"
      ],
      "text/plain": [
       "             Atlanta  Boston  Chicago  monthly_capacity  monthly_fc\n",
       "supply_city                                                        \n",
       "Bethesda        1675     400      685                18        7650\n",
       "Memphis          380    1355      543                22        4100\n",
       "Kansas_City      922    1646      700                31        2200"
      ]
     },
     "execution_count": 95,
     "metadata": {},
     "output_type": "execute_result"
    }
   ],
   "source": [
    "# Get data\n",
    "# the capacity, variable, and fixed costs are in a sheet labeled 'gg_costs_and_cap'\n",
    "gg_data = pd.read_excel('KitchenCompanies.xlsx', sheet_name='gg_costs_and_cap', index_col=0)\n",
    "gg_data"
   ]
  },
  {
   "cell_type": "code",
   "execution_count": 96,
   "id": "164ab13d",
   "metadata": {},
   "outputs": [
    {
     "data": {
      "text/plain": [
       "['Bethesda', 'Memphis', 'Kansas_City']"
      ]
     },
     "execution_count": 96,
     "metadata": {},
     "output_type": "execute_result"
    }
   ],
   "source": [
    "# Create the plants as a list\n",
    "plants = gg_data.index.tolist()\n",
    "plants"
   ]
  },
  {
   "cell_type": "code",
   "execution_count": 97,
   "id": "38050b62",
   "metadata": {},
   "outputs": [
    {
     "data": {
      "text/plain": [
       "{'Bethesda': 18, 'Memphis': 22, 'Kansas_City': 31}"
      ]
     },
     "execution_count": 97,
     "metadata": {},
     "output_type": "execute_result"
    }
   ],
   "source": [
    "# Create a dictionary to hold the capacity for each plant\n",
    "gg_capacity = gg_data['monthly_capacity'].to_dict()\n",
    "gg_capacity"
   ]
  },
  {
   "cell_type": "code",
   "execution_count": 98,
   "id": "4d9ba6c6",
   "metadata": {},
   "outputs": [
    {
     "data": {
      "text/plain": [
       "{'Bethesda': 7650, 'Memphis': 4100, 'Kansas_City': 2200}"
      ]
     },
     "execution_count": 98,
     "metadata": {},
     "output_type": "execute_result"
    }
   ],
   "source": [
    "# Create a dictionary to hold the fixed cost for each plant\n",
    "gg_fc = gg_data['monthly_fc'].to_dict()\n",
    "gg_fc"
   ]
  },
  {
   "cell_type": "code",
   "execution_count": 99,
   "id": "2576fb8d",
   "metadata": {},
   "outputs": [
    {
     "data": {
      "text/html": [
       "<div>\n",
       "<style scoped>\n",
       "    .dataframe tbody tr th:only-of-type {\n",
       "        vertical-align: middle;\n",
       "    }\n",
       "\n",
       "    .dataframe tbody tr th {\n",
       "        vertical-align: top;\n",
       "    }\n",
       "\n",
       "    .dataframe thead th {\n",
       "        text-align: right;\n",
       "    }\n",
       "</style>\n",
       "<table border=\"1\" class=\"dataframe\">\n",
       "  <thead>\n",
       "    <tr style=\"text-align: right;\">\n",
       "      <th></th>\n",
       "      <th>Atlanta</th>\n",
       "      <th>Boston</th>\n",
       "      <th>Chicago</th>\n",
       "    </tr>\n",
       "    <tr>\n",
       "      <th>supply_city</th>\n",
       "      <th></th>\n",
       "      <th></th>\n",
       "      <th></th>\n",
       "    </tr>\n",
       "  </thead>\n",
       "  <tbody>\n",
       "    <tr>\n",
       "      <th>Bethesda</th>\n",
       "      <td>1675</td>\n",
       "      <td>400</td>\n",
       "      <td>685</td>\n",
       "    </tr>\n",
       "    <tr>\n",
       "      <th>Memphis</th>\n",
       "      <td>380</td>\n",
       "      <td>1355</td>\n",
       "      <td>543</td>\n",
       "    </tr>\n",
       "    <tr>\n",
       "      <th>Kansas_City</th>\n",
       "      <td>922</td>\n",
       "      <td>1646</td>\n",
       "      <td>700</td>\n",
       "    </tr>\n",
       "  </tbody>\n",
       "</table>\n",
       "</div>"
      ],
      "text/plain": [
       "             Atlanta  Boston  Chicago\n",
       "supply_city                          \n",
       "Bethesda        1675     400      685\n",
       "Memphis          380    1355      543\n",
       "Kansas_City      922    1646      700"
      ]
     },
     "execution_count": 99,
     "metadata": {},
     "output_type": "execute_result"
    }
   ],
   "source": [
    "# Get data\n",
    "# Transportation costs are in our gg_costs_and_cap DataFrame\n",
    "gg_transp = gg_data[['Atlanta', 'Boston', 'Chicago']]\n",
    "gg_transp"
   ]
  },
  {
   "cell_type": "code",
   "execution_count": 100,
   "id": "e5f01a7e",
   "metadata": {},
   "outputs": [
    {
     "data": {
      "text/plain": [
       "[[1675, 400, 685], [380, 1355, 543], [922, 1646, 700]]"
      ]
     },
     "execution_count": 100,
     "metadata": {},
     "output_type": "execute_result"
    }
   ],
   "source": [
    "# Convert costs to a list of lists\n",
    "gg_transp_costs = gg_transp.values.tolist()\n",
    "gg_transp_costs"
   ]
  },
  {
   "cell_type": "code",
   "execution_count": 101,
   "id": "e06bfb55-7640-4da1-bc52-e4b546402e05",
   "metadata": {},
   "outputs": [],
   "source": [
    "# Create the model instance and set to minimize\n",
    "model = gp.Model('Gourmet_Gizmos')\n",
    "# Set it to minimize\n",
    "model.modelSense = GRB.MINIMIZE"
   ]
  },
  {
   "cell_type": "code",
   "execution_count": 102,
   "id": "dff85340-4682-4b7b-909c-3fab3469086c",
   "metadata": {},
   "outputs": [
    {
     "name": "stdout",
     "output_type": "stream",
     "text": [
      "Minimize\n",
      "1675.0 flow[Bethesda,Atlanta] + 400.0 flow[Bethesda,Boston]\n",
      "+ 685.0 flow[Bethesda,Chicago] + 380.0 flow[Memphis,Atlanta]\n",
      "+ 1355.0 flow[Memphis,Boston] + 543.0 flow[Memphis,Chicago]\n",
      "+ 922.0 flow[Kansas_City,Atlanta] + 1646.0 flow[Kansas_City,Boston]\n",
      "+ 700.0 flow[Kansas_City,Chicago]\n",
      "Subject To\n"
     ]
    },
    {
     "name": "stderr",
     "output_type": "stream",
     "text": [
      "/tmp/ipykernel_4146/3080150752.py:6: DeprecationWarning: Model.display() is deprecated\n",
      "  model.display()\n"
     ]
    }
   ],
   "source": [
    "# Create the flow variables from plants to markets\n",
    "flow = model.addVars(plants, markets, obj=gg_transp_costs, name='flow')\n",
    "\n",
    "# Update the model and display\n",
    "model.update()\n",
    "model.display()"
   ]
  },
  {
   "cell_type": "code",
   "execution_count": 103,
   "id": "9fefddd3-f10e-49af-93bc-cdfe6a18e999",
   "metadata": {},
   "outputs": [
    {
     "name": "stdout",
     "output_type": "stream",
     "text": [
      "Minimize\n",
      "1675.0 flow[Bethesda,Atlanta] + 400.0 flow[Bethesda,Boston]\n",
      "+ 685.0 flow[Bethesda,Chicago] + 380.0 flow[Memphis,Atlanta]\n",
      "+ 1355.0 flow[Memphis,Boston] + 543.0 flow[Memphis,Chicago]\n",
      "+ 922.0 flow[Kansas_City,Atlanta] + 1646.0 flow[Kansas_City,Boston]\n",
      "+ 700.0 flow[Kansas_City,Chicago]\n",
      "Subject To\n",
      "demand_Atlanta: flow[Bethesda,Atlanta] + flow[Memphis,Atlanta] +\n",
      " flow[Kansas_City,Atlanta] = 10\n",
      "demand_Boston: flow[Bethesda,Boston] + flow[Memphis,Boston] + flow[Kansas_City,Boston]\n",
      " = 8\n",
      "demand_Chicago: flow[Bethesda,Chicago] + flow[Memphis,Chicago] +\n",
      " flow[Kansas_City,Chicago] = 14\n"
     ]
    },
    {
     "name": "stderr",
     "output_type": "stream",
     "text": [
      "/tmp/ipykernel_4146/4152660249.py:7: DeprecationWarning: Model.display() is deprecated\n",
      "  model.display()\n"
     ]
    }
   ],
   "source": [
    "# Make sure you meet demand for each market\n",
    "for m in markets:\n",
    "    model.addConstr(gp.quicksum(flow[p, m] for p in plants) == gg_demand[m], name=f\"demand_{m}\")\n",
    "\n",
    "# Update and display\n",
    "model.update()\n",
    "model.display()\n"
   ]
  },
  {
   "cell_type": "code",
   "execution_count": 104,
   "id": "a364c65a-a49b-4975-ac61-ad4a0039694b",
   "metadata": {},
   "outputs": [
    {
     "name": "stdout",
     "output_type": "stream",
     "text": [
      "Minimize\n",
      "1675.0 flow[Bethesda,Atlanta] + 400.0 flow[Bethesda,Boston]\n",
      "+ 685.0 flow[Bethesda,Chicago] + 380.0 flow[Memphis,Atlanta]\n",
      "+ 1355.0 flow[Memphis,Boston] + 543.0 flow[Memphis,Chicago]\n",
      "+ 922.0 flow[Kansas_City,Atlanta] + 1646.0 flow[Kansas_City,Boston]\n",
      "+ 700.0 flow[Kansas_City,Chicago]\n",
      "Subject To\n",
      "demand_Atlanta: flow[Bethesda,Atlanta] + flow[Memphis,Atlanta] +\n",
      " flow[Kansas_City,Atlanta] = 10\n",
      "demand_Boston: flow[Bethesda,Boston] + flow[Memphis,Boston] + flow[Kansas_City,Boston]\n",
      " = 8\n",
      "demand_Chicago: flow[Bethesda,Chicago] + flow[Memphis,Chicago] +\n",
      " flow[Kansas_City,Chicago] = 14\n",
      "capacity_Bethesda: flow[Bethesda,Atlanta] + flow[Bethesda,Boston] +\n",
      " flow[Bethesda,Chicago] <= 18\n",
      "capacity_Memphis: flow[Memphis,Atlanta] + flow[Memphis,Boston] + flow[Memphis,Chicago]\n",
      " <= 22\n",
      "capacity_Kansas_City: flow[Kansas_City,Atlanta] + flow[Kansas_City,Boston] +\n",
      " flow[Kansas_City,Chicago] <= 31\n"
     ]
    },
    {
     "name": "stderr",
     "output_type": "stream",
     "text": [
      "/tmp/ipykernel_4146/1222814154.py:7: DeprecationWarning: Model.display() is deprecated\n",
      "  model.display()\n"
     ]
    }
   ],
   "source": [
    "# Make sure stay under capacity at plants\n",
    "for p in plants:\n",
    "    model.addConstr(gp.quicksum(flow[p, m] for m in markets) <= gg_capacity[p], name=f\"capacity_{p}\")\n",
    "\n",
    "# Update and display\n",
    "model.update()\n",
    "model.display()"
   ]
  },
  {
   "cell_type": "code",
   "execution_count": 105,
   "id": "8e907bb9-d503-4d22-8014-904602b4bf21",
   "metadata": {},
   "outputs": [
    {
     "name": "stdout",
     "output_type": "stream",
     "text": [
      "Gurobi Optimizer version 12.0.1 build v12.0.1rc0 (linux64 - \"Ubuntu 24.04.2 LTS\")\n",
      "\n",
      "CPU model: Intel(R) Core(TM) Ultra 7 155H, instruction set [SSE2|AVX|AVX2]\n",
      "Thread count: 11 physical cores, 22 logical processors, using up to 22 threads\n",
      "\n",
      "Optimize a model with 6 rows, 9 columns and 18 nonzeros\n",
      "Model fingerprint: 0x925f4a86\n",
      "Coefficient statistics:\n",
      "  Matrix range     [1e+00, 1e+00]\n",
      "  Objective range  [4e+02, 2e+03]\n",
      "  Bounds range     [0e+00, 0e+00]\n",
      "  RHS range        [8e+00, 3e+01]\n",
      "Presolve time: 0.00s\n",
      "Presolved: 6 rows, 9 columns, 18 nonzeros\n",
      "\n",
      "Iteration    Objective       Primal Inf.    Dual Inf.      Time\n",
      "       0    1.4602000e+04   2.000000e+00   0.000000e+00      0s\n",
      "       1    1.4886000e+04   0.000000e+00   0.000000e+00      0s\n",
      "\n",
      "Solved in 1 iterations and 0.01 seconds (0.00 work units)\n",
      "Optimal objective  1.488600000e+04\n"
     ]
    }
   ],
   "source": [
    "# Solve\n",
    "model.optimize()"
   ]
  },
  {
   "cell_type": "code",
   "execution_count": 106,
   "id": "8bcaa932-2b60-4228-9b62-3ee7c5f703fe",
   "metadata": {},
   "outputs": [
    {
     "name": "stdout",
     "output_type": "stream",
     "text": [
      "Total Cost: $14,886.00\n",
      "flow[Bethesda,Boston] = 8.0\n",
      "flow[Bethesda,Chicago] = 2.0\n",
      "flow[Memphis,Atlanta] = 10.0\n",
      "flow[Memphis,Chicago] = 12.0\n"
     ]
    }
   ],
   "source": [
    "# Print answer\n",
    "print(f\"Total Cost: ${model.objVal:,.2f}\")\n",
    "for var in model.getVars():\n",
    "    if var.x > 0:\n",
    "        print(f\"{var.varName} = {var.x}\")"
   ]
  },
  {
   "cell_type": "markdown",
   "id": "36c6798b-9260-4c85-815a-054da76c1ba4",
   "metadata": {},
   "source": [
    "## Culinary Compacts\n",
    "\n",
    "Assume the two supply locations are already up and running so you do not need to incorporate the fixed costs."
   ]
  },
  {
   "cell_type": "code",
   "execution_count": 107,
   "id": "8fc7b342-8fe0-40b8-a911-9db6e7ed7bfc",
   "metadata": {},
   "outputs": [
    {
     "data": {
      "text/html": [
       "<div>\n",
       "<style scoped>\n",
       "    .dataframe tbody tr th:only-of-type {\n",
       "        vertical-align: middle;\n",
       "    }\n",
       "\n",
       "    .dataframe tbody tr th {\n",
       "        vertical-align: top;\n",
       "    }\n",
       "\n",
       "    .dataframe thead th {\n",
       "        text-align: right;\n",
       "    }\n",
       "</style>\n",
       "<table border=\"1\" class=\"dataframe\">\n",
       "  <thead>\n",
       "    <tr style=\"text-align: right;\">\n",
       "      <th></th>\n",
       "      <th>demand</th>\n",
       "    </tr>\n",
       "    <tr>\n",
       "      <th>city</th>\n",
       "      <th></th>\n",
       "    </tr>\n",
       "  </thead>\n",
       "  <tbody>\n",
       "    <tr>\n",
       "      <th>Denver</th>\n",
       "      <td>6</td>\n",
       "    </tr>\n",
       "    <tr>\n",
       "      <th>Omaha</th>\n",
       "      <td>7</td>\n",
       "    </tr>\n",
       "    <tr>\n",
       "      <th>Seattle</th>\n",
       "      <td>11</td>\n",
       "    </tr>\n",
       "  </tbody>\n",
       "</table>\n",
       "</div>"
      ],
      "text/plain": [
       "         demand\n",
       "city           \n",
       "Denver        6\n",
       "Omaha         7\n",
       "Seattle      11"
      ]
     },
     "execution_count": 107,
     "metadata": {},
     "output_type": "execute_result"
    }
   ],
   "source": [
    "# Culinary Compacts\n",
    "# Get data\n",
    "# Culinary Compacts demand is in a sheet called 'cc_demand'\n",
    "cc_demand = pd.read_excel('KitchenCompanies.xlsx', sheet_name='cc_demand', index_col=0)\n",
    "cc_demand"
   ]
  },
  {
   "cell_type": "code",
   "execution_count": 108,
   "id": "db379c99",
   "metadata": {},
   "outputs": [
    {
     "data": {
      "text/plain": [
       "{'Denver': 6, 'Omaha': 7, 'Seattle': 11}"
      ]
     },
     "execution_count": 108,
     "metadata": {},
     "output_type": "execute_result"
    }
   ],
   "source": [
    "# Convert demand to a dictionary\n",
    "cc_demand = cc_demand.to_dict()['demand']\n",
    "cc_demand"
   ]
  },
  {
   "cell_type": "code",
   "execution_count": 109,
   "id": "cea155b9-5bc9-4ba4-ab8e-35114c888299",
   "metadata": {},
   "outputs": [
    {
     "data": {
      "text/plain": [
       "['Denver', 'Omaha', 'Seattle']"
      ]
     },
     "execution_count": 109,
     "metadata": {},
     "output_type": "execute_result"
    }
   ],
   "source": [
    "# Create the markets as a list\n",
    "cc_markets = list(cc_demand.keys())\n",
    "cc_markets"
   ]
  },
  {
   "cell_type": "code",
   "execution_count": 110,
   "id": "972f61f8-942d-4f9e-8abd-37e21beb9cad",
   "metadata": {},
   "outputs": [
    {
     "data": {
      "text/html": [
       "<div>\n",
       "<style scoped>\n",
       "    .dataframe tbody tr th:only-of-type {\n",
       "        vertical-align: middle;\n",
       "    }\n",
       "\n",
       "    .dataframe tbody tr th {\n",
       "        vertical-align: top;\n",
       "    }\n",
       "\n",
       "    .dataframe thead th {\n",
       "        text-align: right;\n",
       "    }\n",
       "</style>\n",
       "<table border=\"1\" class=\"dataframe\">\n",
       "  <thead>\n",
       "    <tr style=\"text-align: right;\">\n",
       "      <th></th>\n",
       "      <th>Denver</th>\n",
       "      <th>Omaha</th>\n",
       "      <th>Seattle</th>\n",
       "      <th>monthly_capacity</th>\n",
       "      <th>monthly_fc</th>\n",
       "    </tr>\n",
       "    <tr>\n",
       "      <th>supply_city</th>\n",
       "      <th></th>\n",
       "      <th></th>\n",
       "      <th></th>\n",
       "      <th></th>\n",
       "      <th></th>\n",
       "    </tr>\n",
       "  </thead>\n",
       "  <tbody>\n",
       "    <tr>\n",
       "      <th>Fort_Collins</th>\n",
       "      <td>100</td>\n",
       "      <td>495</td>\n",
       "      <td>1200</td>\n",
       "      <td>24</td>\n",
       "      <td>3500</td>\n",
       "    </tr>\n",
       "    <tr>\n",
       "      <th>Provo</th>\n",
       "      <td>500</td>\n",
       "      <td>950</td>\n",
       "      <td>800</td>\n",
       "      <td>27</td>\n",
       "      <td>5000</td>\n",
       "    </tr>\n",
       "  </tbody>\n",
       "</table>\n",
       "</div>"
      ],
      "text/plain": [
       "              Denver  Omaha  Seattle  monthly_capacity  monthly_fc\n",
       "supply_city                                                       \n",
       "Fort_Collins     100    495     1200                24        3500\n",
       "Provo            500    950      800                27        5000"
      ]
     },
     "execution_count": 110,
     "metadata": {},
     "output_type": "execute_result"
    }
   ],
   "source": [
    "# Get data\n",
    "# the capacity, variable, and fixed costs are in a sheet labeled 'gg_costs_and_cap'\n",
    "cc_data = pd.read_excel('KitchenCompanies.xlsx', sheet_name='cc_costs_and_cap', index_col=0)\n",
    "cc_data"
   ]
  },
  {
   "cell_type": "code",
   "execution_count": 111,
   "id": "fbc0e766-9266-4ecb-89f3-4852fa218b97",
   "metadata": {},
   "outputs": [
    {
     "data": {
      "text/plain": [
       "['Fort_Collins', 'Provo']"
      ]
     },
     "execution_count": 111,
     "metadata": {},
     "output_type": "execute_result"
    }
   ],
   "source": [
    "# Create the plants as a list\n",
    "cc_plants = cc_data.index.tolist()\n",
    "cc_plants"
   ]
  },
  {
   "cell_type": "code",
   "execution_count": 112,
   "id": "aa03e233-c6ca-4228-854d-efc79c91c963",
   "metadata": {},
   "outputs": [
    {
     "data": {
      "text/plain": [
       "{'Fort_Collins': 24, 'Provo': 27}"
      ]
     },
     "execution_count": 112,
     "metadata": {},
     "output_type": "execute_result"
    }
   ],
   "source": [
    "# Create a dictionary to hold the capacity for each plant\n",
    "cc_capacity = cc_data['monthly_capacity'].to_dict()\n",
    "cc_capacity"
   ]
  },
  {
   "cell_type": "code",
   "execution_count": 113,
   "id": "8ebf8e72-dea3-4bcb-94ce-1b28ed60e5d1",
   "metadata": {},
   "outputs": [
    {
     "data": {
      "text/plain": [
       "{'Fort_Collins': 3500, 'Provo': 5000}"
      ]
     },
     "execution_count": 113,
     "metadata": {},
     "output_type": "execute_result"
    }
   ],
   "source": [
    "# Create a dictionary to hold the fixed cost for each plant\n",
    "cc_fixed_costs = cc_data['monthly_fc'].to_dict()\n",
    "cc_fixed_costs"
   ]
  },
  {
   "cell_type": "code",
   "execution_count": 114,
   "id": "1de843c4-15c0-4a4d-9baa-2bcf19779795",
   "metadata": {},
   "outputs": [
    {
     "data": {
      "text/html": [
       "<div>\n",
       "<style scoped>\n",
       "    .dataframe tbody tr th:only-of-type {\n",
       "        vertical-align: middle;\n",
       "    }\n",
       "\n",
       "    .dataframe tbody tr th {\n",
       "        vertical-align: top;\n",
       "    }\n",
       "\n",
       "    .dataframe thead th {\n",
       "        text-align: right;\n",
       "    }\n",
       "</style>\n",
       "<table border=\"1\" class=\"dataframe\">\n",
       "  <thead>\n",
       "    <tr style=\"text-align: right;\">\n",
       "      <th></th>\n",
       "      <th>Denver</th>\n",
       "      <th>Omaha</th>\n",
       "      <th>Seattle</th>\n",
       "    </tr>\n",
       "    <tr>\n",
       "      <th>supply_city</th>\n",
       "      <th></th>\n",
       "      <th></th>\n",
       "      <th></th>\n",
       "    </tr>\n",
       "  </thead>\n",
       "  <tbody>\n",
       "    <tr>\n",
       "      <th>Fort_Collins</th>\n",
       "      <td>100</td>\n",
       "      <td>495</td>\n",
       "      <td>1200</td>\n",
       "    </tr>\n",
       "    <tr>\n",
       "      <th>Provo</th>\n",
       "      <td>500</td>\n",
       "      <td>950</td>\n",
       "      <td>800</td>\n",
       "    </tr>\n",
       "  </tbody>\n",
       "</table>\n",
       "</div>"
      ],
      "text/plain": [
       "              Denver  Omaha  Seattle\n",
       "supply_city                         \n",
       "Fort_Collins     100    495     1200\n",
       "Provo            500    950      800"
      ]
     },
     "execution_count": 114,
     "metadata": {},
     "output_type": "execute_result"
    }
   ],
   "source": [
    "# Get data\n",
    "# Transportation costs are in our cc_costs_and_cap DataFrame\n",
    "cc_transp_cost = cc_data[['Denver', 'Omaha', 'Seattle']]\n",
    "cc_transp_cost"
   ]
  },
  {
   "cell_type": "code",
   "execution_count": 115,
   "id": "a5040601-c6c8-414e-a418-18d5cf4c3106",
   "metadata": {},
   "outputs": [
    {
     "data": {
      "text/plain": [
       "[[100, 495, 1200], [500, 950, 800]]"
      ]
     },
     "execution_count": 115,
     "metadata": {},
     "output_type": "execute_result"
    }
   ],
   "source": [
    "# Convert costs to a list of lists\n",
    "cc_transp_cost = cc_transp_cost.values.tolist()\n",
    "cc_transp_cost"
   ]
  },
  {
   "cell_type": "code",
   "execution_count": 120,
   "id": "012a6155-6e82-4a61-8e9b-8b06e632e665",
   "metadata": {},
   "outputs": [
    {
     "name": "stdout",
     "output_type": "stream",
     "text": [
      "Minimize\n",
      "100.0 flow[Fort_Collins,Denver] + 495.0 flow[Fort_Collins,Omaha]\n",
      "+ 1200.0 flow[Fort_Collins,Seattle] + 500.0 flow[Provo,Denver] + 950.0 flow[Provo,Omaha]\n",
      "+ 800.0 flow[Provo,Seattle]\n",
      "Subject To\n",
      "  demand_Denver: flow[Fort_Collins,Denver] + flow[Provo,Denver] >= 6\n",
      "  demand_Omaha: flow[Fort_Collins,Omaha] + flow[Provo,Omaha] >= 7\n",
      "  demand_Seattle: flow[Fort_Collins,Seattle] + flow[Provo,Seattle] >= 11\n",
      "capacity_Fort_Collins: flow[Fort_Collins,Denver] + flow[Fort_Collins,Omaha] +\n",
      " flow[Fort_Collins,Seattle] <= 24\n",
      "  capacity_Provo: flow[Provo,Denver] + flow[Provo,Omaha] + flow[Provo,Seattle] <= 27\n"
     ]
    },
    {
     "name": "stderr",
     "output_type": "stream",
     "text": [
      "/tmp/ipykernel_4146/2362236160.py:18: DeprecationWarning: Model.display() is deprecated\n",
      "  cc_model.display()\n"
     ]
    }
   ],
   "source": [
    "# Create the model instance and set to minimize\n",
    "cc_model = gp.Model('Culinary_Compacts')\n",
    "cc_model.ModelSense = GRB.MINIMIZE\n",
    "\n",
    "# Create the flow variables from plants to markets\n",
    "cc_flow = cc_model.addVars(cc_plants, cc_markets, obj=cc_transp_cost, name='flow')\n",
    "\n",
    "# Make sure you meet demand for each market\n",
    "for market in cc_markets:\n",
    "    cc_model.addConstr(gp.quicksum(cc_flow[p, market] for p in cc_plants) >= cc_demand[market], name=f\"demand_{market}\")\n",
    "\n",
    "# Make sure stay under capacity at plants\n",
    "for plant in cc_plants:\n",
    "    cc_model.addConstr(gp.quicksum(cc_flow[plant, m] for m in cc_markets) <= cc_capacity[plant], name=f\"capacity_{plant}\")\n",
    "\n",
    "# Update and display\n",
    "cc_model.update()\n",
    "cc_model.display()"
   ]
  },
  {
   "cell_type": "code",
   "execution_count": 121,
   "id": "864fb42a-1cef-4cd9-9540-84d3bffaaa91",
   "metadata": {},
   "outputs": [
    {
     "name": "stdout",
     "output_type": "stream",
     "text": [
      "Gurobi Optimizer version 12.0.1 build v12.0.1rc0 (linux64 - \"Ubuntu 24.04.2 LTS\")\n",
      "\n",
      "CPU model: Intel(R) Core(TM) Ultra 7 155H, instruction set [SSE2|AVX|AVX2]\n",
      "Thread count: 11 physical cores, 22 logical processors, using up to 22 threads\n",
      "\n",
      "Optimize a model with 5 rows, 6 columns and 12 nonzeros\n",
      "Model fingerprint: 0xa7a90fb5\n",
      "Coefficient statistics:\n",
      "  Matrix range     [1e+00, 1e+00]\n",
      "  Objective range  [1e+02, 1e+03]\n",
      "  Bounds range     [0e+00, 0e+00]\n",
      "  RHS range        [6e+00, 3e+01]\n",
      "Presolve time: 0.04s\n",
      "Presolved: 5 rows, 6 columns, 12 nonzeros\n",
      "\n",
      "Iteration    Objective       Primal Inf.    Dual Inf.      Time\n",
      "       0    0.0000000e+00   2.400000e+01   0.000000e+00      0s\n",
      "       3    1.2865000e+04   0.000000e+00   0.000000e+00      0s\n",
      "\n",
      "Solved in 3 iterations and 0.05 seconds (0.00 work units)\n",
      "Optimal objective  1.286500000e+04\n"
     ]
    }
   ],
   "source": [
    "# solve\n",
    "cc_model.optimize()"
   ]
  },
  {
   "cell_type": "code",
   "execution_count": 122,
   "id": "6e377d6d-9d49-46a7-b757-5ebc45c27046",
   "metadata": {},
   "outputs": [
    {
     "name": "stdout",
     "output_type": "stream",
     "text": [
      "Total Cost: $12,865.00\n",
      "flow[Fort_Collins,Denver] = 6.0\n",
      "flow[Fort_Collins,Omaha] = 7.0\n",
      "flow[Provo,Seattle] = 11.0\n"
     ]
    }
   ],
   "source": [
    "# Print answer\n",
    "print(f\"Total Cost: ${cc_model.objVal:,.2f}\")\n",
    "for var in cc_model.getVars():\n",
    "    if var.x > 0:\n",
    "        print(f\"{var.varName} = {var.x}\")"
   ]
  },
  {
   "cell_type": "markdown",
   "id": "af9aca5e-0421-4904-bd71-590f039ef6ed",
   "metadata": {},
   "source": [
    "## Combined Company - Culinary Gizmos\n",
    "\n",
    "Now we need to incorporate the fixed costs for each manufacturing plant when deciding the best design configuration."
   ]
  },
  {
   "cell_type": "code",
   "execution_count": 125,
   "id": "e4291366-afde-4e5c-a79a-a51c54db4e3a",
   "metadata": {},
   "outputs": [
    {
     "data": {
      "text/html": [
       "<div>\n",
       "<style scoped>\n",
       "    .dataframe tbody tr th:only-of-type {\n",
       "        vertical-align: middle;\n",
       "    }\n",
       "\n",
       "    .dataframe tbody tr th {\n",
       "        vertical-align: top;\n",
       "    }\n",
       "\n",
       "    .dataframe thead th {\n",
       "        text-align: right;\n",
       "    }\n",
       "</style>\n",
       "<table border=\"1\" class=\"dataframe\">\n",
       "  <thead>\n",
       "    <tr style=\"text-align: right;\">\n",
       "      <th></th>\n",
       "      <th>demand</th>\n",
       "    </tr>\n",
       "    <tr>\n",
       "      <th>city</th>\n",
       "      <th></th>\n",
       "    </tr>\n",
       "  </thead>\n",
       "  <tbody>\n",
       "    <tr>\n",
       "      <th>Atlanta</th>\n",
       "      <td>10</td>\n",
       "    </tr>\n",
       "    <tr>\n",
       "      <th>Boston</th>\n",
       "      <td>8</td>\n",
       "    </tr>\n",
       "    <tr>\n",
       "      <th>Chicago</th>\n",
       "      <td>14</td>\n",
       "    </tr>\n",
       "    <tr>\n",
       "      <th>Denver</th>\n",
       "      <td>6</td>\n",
       "    </tr>\n",
       "    <tr>\n",
       "      <th>Omaha</th>\n",
       "      <td>7</td>\n",
       "    </tr>\n",
       "    <tr>\n",
       "      <th>Seattle</th>\n",
       "      <td>11</td>\n",
       "    </tr>\n",
       "  </tbody>\n",
       "</table>\n",
       "</div>"
      ],
      "text/plain": [
       "         demand\n",
       "city           \n",
       "Atlanta      10\n",
       "Boston        8\n",
       "Chicago      14\n",
       "Denver        6\n",
       "Omaha         7\n",
       "Seattle      11"
      ]
     },
     "metadata": {},
     "output_type": "display_data"
    },
    {
     "data": {
      "text/plain": [
       "{'Atlanta': 10,\n",
       " 'Boston': 8,\n",
       " 'Chicago': 14,\n",
       " 'Denver': 6,\n",
       " 'Omaha': 7,\n",
       " 'Seattle': 11}"
      ]
     },
     "metadata": {},
     "output_type": "display_data"
    },
    {
     "data": {
      "text/plain": [
       "['Atlanta', 'Boston', 'Chicago', 'Denver', 'Omaha', 'Seattle']"
      ]
     },
     "metadata": {},
     "output_type": "display_data"
    }
   ],
   "source": [
    "# Culinary Gizmos - the combined company\n",
    "# Get data\n",
    "# Culinary Gizmos demand is in a sheet called 'combined_demand'\n",
    "combined_demand = pd.read_excel('KitchenCompanies.xlsx', sheet_name='combined_demand', index_col=0)\n",
    "display(combined_demand)\n",
    "\n",
    "# Convert demand to a dictionary\n",
    "combined_demand = combined_demand.to_dict()['demand']\n",
    "display(combined_demand)\n",
    "\n",
    "# Create the markets as a list\n",
    "combined_markets = list(combined_demand.keys())\n",
    "display(combined_markets)"
   ]
  },
  {
   "cell_type": "code",
   "execution_count": 126,
   "id": "1c675490-5924-415c-a6dd-9dcd6dac900a",
   "metadata": {},
   "outputs": [
    {
     "data": {
      "text/html": [
       "<div>\n",
       "<style scoped>\n",
       "    .dataframe tbody tr th:only-of-type {\n",
       "        vertical-align: middle;\n",
       "    }\n",
       "\n",
       "    .dataframe tbody tr th {\n",
       "        vertical-align: top;\n",
       "    }\n",
       "\n",
       "    .dataframe thead th {\n",
       "        text-align: right;\n",
       "    }\n",
       "</style>\n",
       "<table border=\"1\" class=\"dataframe\">\n",
       "  <thead>\n",
       "    <tr style=\"text-align: right;\">\n",
       "      <th></th>\n",
       "      <th>Atlanta</th>\n",
       "      <th>Boston</th>\n",
       "      <th>Chicago</th>\n",
       "      <th>Denver</th>\n",
       "      <th>Omaha</th>\n",
       "      <th>Seattle</th>\n",
       "      <th>monthly_capacity</th>\n",
       "      <th>monthly_fc</th>\n",
       "    </tr>\n",
       "    <tr>\n",
       "      <th>supply_city</th>\n",
       "      <th></th>\n",
       "      <th></th>\n",
       "      <th></th>\n",
       "      <th></th>\n",
       "      <th></th>\n",
       "      <th></th>\n",
       "      <th></th>\n",
       "      <th></th>\n",
       "    </tr>\n",
       "  </thead>\n",
       "  <tbody>\n",
       "    <tr>\n",
       "      <th>Bethesda</th>\n",
       "      <td>1675</td>\n",
       "      <td>400</td>\n",
       "      <td>685</td>\n",
       "      <td>1630</td>\n",
       "      <td>1160</td>\n",
       "      <td>2800</td>\n",
       "      <td>18</td>\n",
       "      <td>7650</td>\n",
       "    </tr>\n",
       "    <tr>\n",
       "      <th>Memphis</th>\n",
       "      <td>380</td>\n",
       "      <td>1355</td>\n",
       "      <td>543</td>\n",
       "      <td>1045</td>\n",
       "      <td>665</td>\n",
       "      <td>2321</td>\n",
       "      <td>22</td>\n",
       "      <td>4100</td>\n",
       "    </tr>\n",
       "    <tr>\n",
       "      <th>Kansas_City</th>\n",
       "      <td>922</td>\n",
       "      <td>1646</td>\n",
       "      <td>700</td>\n",
       "      <td>508</td>\n",
       "      <td>311</td>\n",
       "      <td>1797</td>\n",
       "      <td>31</td>\n",
       "      <td>2200</td>\n",
       "    </tr>\n",
       "    <tr>\n",
       "      <th>Fort_Collins</th>\n",
       "      <td>1460</td>\n",
       "      <td>1940</td>\n",
       "      <td>970</td>\n",
       "      <td>100</td>\n",
       "      <td>495</td>\n",
       "      <td>1200</td>\n",
       "      <td>24</td>\n",
       "      <td>3500</td>\n",
       "    </tr>\n",
       "    <tr>\n",
       "      <th>Provo</th>\n",
       "      <td>1925</td>\n",
       "      <td>2400</td>\n",
       "      <td>1425</td>\n",
       "      <td>500</td>\n",
       "      <td>950</td>\n",
       "      <td>800</td>\n",
       "      <td>27</td>\n",
       "      <td>5000</td>\n",
       "    </tr>\n",
       "  </tbody>\n",
       "</table>\n",
       "</div>"
      ],
      "text/plain": [
       "              Atlanta  Boston  Chicago  Denver  Omaha  Seattle  \\\n",
       "supply_city                                                      \n",
       "Bethesda         1675     400      685    1630   1160     2800   \n",
       "Memphis           380    1355      543    1045    665     2321   \n",
       "Kansas_City       922    1646      700     508    311     1797   \n",
       "Fort_Collins     1460    1940      970     100    495     1200   \n",
       "Provo            1925    2400     1425     500    950      800   \n",
       "\n",
       "              monthly_capacity  monthly_fc  \n",
       "supply_city                                 \n",
       "Bethesda                    18        7650  \n",
       "Memphis                     22        4100  \n",
       "Kansas_City                 31        2200  \n",
       "Fort_Collins                24        3500  \n",
       "Provo                       27        5000  "
      ]
     },
     "metadata": {},
     "output_type": "display_data"
    }
   ],
   "source": [
    "# Get data\n",
    "# the capacity, variable, and fixed costs are in a sheet labeled 'combined_costs_and_cap'\n",
    "combined_data = pd.read_excel('KitchenCompanies.xlsx', sheet_name='combined_costs_and_cap', index_col=0)\n",
    "display(combined_data)"
   ]
  },
  {
   "cell_type": "code",
   "execution_count": 128,
   "id": "ff4bf22c-0da1-4f88-bcd5-c1051d7c820b",
   "metadata": {},
   "outputs": [
    {
     "data": {
      "text/plain": [
       "['Bethesda', 'Memphis', 'Kansas_City', 'Fort_Collins', 'Provo']"
      ]
     },
     "metadata": {},
     "output_type": "display_data"
    },
    {
     "data": {
      "text/plain": [
       "{'Bethesda': 18,\n",
       " 'Memphis': 22,\n",
       " 'Kansas_City': 31,\n",
       " 'Fort_Collins': 24,\n",
       " 'Provo': 27}"
      ]
     },
     "metadata": {},
     "output_type": "display_data"
    },
    {
     "data": {
      "text/plain": [
       "{'Bethesda': 7650,\n",
       " 'Memphis': 4100,\n",
       " 'Kansas_City': 2200,\n",
       " 'Fort_Collins': 3500,\n",
       " 'Provo': 5000}"
      ]
     },
     "metadata": {},
     "output_type": "display_data"
    },
    {
     "data": {
      "text/html": [
       "<div>\n",
       "<style scoped>\n",
       "    .dataframe tbody tr th:only-of-type {\n",
       "        vertical-align: middle;\n",
       "    }\n",
       "\n",
       "    .dataframe tbody tr th {\n",
       "        vertical-align: top;\n",
       "    }\n",
       "\n",
       "    .dataframe thead th {\n",
       "        text-align: right;\n",
       "    }\n",
       "</style>\n",
       "<table border=\"1\" class=\"dataframe\">\n",
       "  <thead>\n",
       "    <tr style=\"text-align: right;\">\n",
       "      <th></th>\n",
       "      <th>Atlanta</th>\n",
       "      <th>Boston</th>\n",
       "      <th>Chicago</th>\n",
       "      <th>Denver</th>\n",
       "      <th>Omaha</th>\n",
       "      <th>Seattle</th>\n",
       "    </tr>\n",
       "    <tr>\n",
       "      <th>supply_city</th>\n",
       "      <th></th>\n",
       "      <th></th>\n",
       "      <th></th>\n",
       "      <th></th>\n",
       "      <th></th>\n",
       "      <th></th>\n",
       "    </tr>\n",
       "  </thead>\n",
       "  <tbody>\n",
       "    <tr>\n",
       "      <th>Bethesda</th>\n",
       "      <td>1675</td>\n",
       "      <td>400</td>\n",
       "      <td>685</td>\n",
       "      <td>1630</td>\n",
       "      <td>1160</td>\n",
       "      <td>2800</td>\n",
       "    </tr>\n",
       "    <tr>\n",
       "      <th>Memphis</th>\n",
       "      <td>380</td>\n",
       "      <td>1355</td>\n",
       "      <td>543</td>\n",
       "      <td>1045</td>\n",
       "      <td>665</td>\n",
       "      <td>2321</td>\n",
       "    </tr>\n",
       "    <tr>\n",
       "      <th>Kansas_City</th>\n",
       "      <td>922</td>\n",
       "      <td>1646</td>\n",
       "      <td>700</td>\n",
       "      <td>508</td>\n",
       "      <td>311</td>\n",
       "      <td>1797</td>\n",
       "    </tr>\n",
       "    <tr>\n",
       "      <th>Fort_Collins</th>\n",
       "      <td>1460</td>\n",
       "      <td>1940</td>\n",
       "      <td>970</td>\n",
       "      <td>100</td>\n",
       "      <td>495</td>\n",
       "      <td>1200</td>\n",
       "    </tr>\n",
       "    <tr>\n",
       "      <th>Provo</th>\n",
       "      <td>1925</td>\n",
       "      <td>2400</td>\n",
       "      <td>1425</td>\n",
       "      <td>500</td>\n",
       "      <td>950</td>\n",
       "      <td>800</td>\n",
       "    </tr>\n",
       "  </tbody>\n",
       "</table>\n",
       "</div>"
      ],
      "text/plain": [
       "              Atlanta  Boston  Chicago  Denver  Omaha  Seattle\n",
       "supply_city                                                   \n",
       "Bethesda         1675     400      685    1630   1160     2800\n",
       "Memphis           380    1355      543    1045    665     2321\n",
       "Kansas_City       922    1646      700     508    311     1797\n",
       "Fort_Collins     1460    1940      970     100    495     1200\n",
       "Provo            1925    2400     1425     500    950      800"
      ]
     },
     "metadata": {},
     "output_type": "display_data"
    },
    {
     "data": {
      "text/plain": [
       "[[1675, 400, 685, 1630, 1160, 2800],\n",
       " [380, 1355, 543, 1045, 665, 2321],\n",
       " [922, 1646, 700, 508, 311, 1797],\n",
       " [1460, 1940, 970, 100, 495, 1200],\n",
       " [1925, 2400, 1425, 500, 950, 800]]"
      ]
     },
     "metadata": {},
     "output_type": "display_data"
    }
   ],
   "source": [
    "# Create the plants as a list\n",
    "combined_plants = combined_data.index.tolist()\n",
    "display(combined_plants)\n",
    "\n",
    "# Create a dictionary to hold the capacity for each plant\n",
    "combined_capacity = combined_data['monthly_capacity'].to_dict()\n",
    "display(combined_capacity)\n",
    "\n",
    "# Create a dictionary to hold the fixed cost for each plant\n",
    "combined_fixed_cost = combined_data['monthly_fc'].to_dict()\n",
    "display(combined_fixed_cost)\n",
    "\n",
    "# Get data\n",
    "# Transportation costs are in our all_costs_and_cap DataFrame\n",
    "combined_transp_cost = combined_data[['Atlanta', 'Boston', 'Chicago', 'Denver', 'Omaha', 'Seattle']]\n",
    "display(combined_transp_cost)\n",
    "\n",
    "# Convert costs to a list of lists\n",
    "combined_transp_cost = combined_transp_cost.values.tolist()\n",
    "display(combined_transp_cost)"
   ]
  },
  {
   "cell_type": "code",
   "execution_count": 132,
   "id": "150fb6bf-1196-41e0-bbaa-af7b0db3c23e",
   "metadata": {},
   "outputs": [],
   "source": [
    "# Create the model instance and set to minimize\n",
    "combined_model = gp.Model('Culinary_Gizmos')\n",
    "combined_model.ModelSense = GRB.MINIMIZE\n",
    "\n",
    "# Create the flow variables from plants to markets\n",
    "combined_flow = combined_model.addVars(combined_plants, combined_markets, obj=combined_transp_cost, name='flow')\n",
    "\n",
    "# Create the binary variables to open plants\n",
    "open_plant = combined_model.addVars(combined_plants, vtype=GRB.BINARY, name='open')\n",
    "\n",
    "# update\n",
    "model.update()\n",
    "# model.display()\n",
    "\n",
    "# Make sure you meet demand for each market\n",
    "for market in combined_markets:\n",
    "    combined_model.addConstr(gp.quicksum(combined_flow[p, market] for p in combined_plants) >= combined_demand[market], name=f\"demand_{market}\")\n",
    "\n",
    "# Make sure stay under copacity at plants\n",
    "for plant in combined_plants:\n",
    "    combined_model.addConstr(gp.quicksum(combined_flow[plant, m] for m in combined_markets) <= combined_capacity[plant] * open_plant[plant], name=f\"capacity_{plant}\")\n",
    "\n",
    "# Update and display\n",
    "model.update()\n",
    "# model.display()"
   ]
  },
  {
   "cell_type": "code",
   "execution_count": 130,
   "id": "3697f0dc-c73c-4a7b-96fd-2cd1cf9664aa",
   "metadata": {},
   "outputs": [
    {
     "name": "stdout",
     "output_type": "stream",
     "text": [
      "Gurobi Optimizer version 12.0.1 build v12.0.1rc0 (linux64 - \"Ubuntu 24.04.2 LTS\")\n",
      "\n",
      "CPU model: Intel(R) Core(TM) Ultra 7 155H, instruction set [SSE2|AVX|AVX2]\n",
      "Thread count: 11 physical cores, 22 logical processors, using up to 22 threads\n",
      "\n",
      "Optimize a model with 11 rows, 35 columns and 65 nonzeros\n",
      "Model fingerprint: 0x44847c3a\n",
      "Variable types: 30 continuous, 5 integer (5 binary)\n",
      "Coefficient statistics:\n",
      "  Matrix range     [1e+00, 3e+01]\n",
      "  Objective range  [1e+02, 3e+03]\n",
      "  Bounds range     [1e+00, 1e+00]\n",
      "  RHS range        [6e+00, 1e+01]\n",
      "Presolve removed 0 rows and 5 columns\n",
      "Presolve time: 0.01s\n",
      "Presolved: 11 rows, 30 columns, 60 nonzeros\n",
      "Variable types: 30 continuous, 0 integer (0 binary)\n",
      "\n",
      "Root relaxation: objective 2.646300e+04, 7 iterations, 0.00 seconds (0.00 work units)\n",
      "\n",
      "    Nodes    |    Current Node    |     Objective Bounds      |     Work\n",
      " Expl Unexpl |  Obj  Depth IntInf | Incumbent    BestBd   Gap | It/Node Time\n",
      "\n",
      "*    0     0               0    26463.000000 26463.0000  0.00%     -    0s\n",
      "\n",
      "Explored 1 nodes (7 simplex iterations) in 0.05 seconds (0.00 work units)\n",
      "Thread count was 22 (of 22 available processors)\n",
      "\n",
      "Solution count 1: 26463 \n",
      "\n",
      "Optimal solution found (tolerance 1.00e-04)\n",
      "Best objective 2.646300000000e+04, best bound 2.646300000000e+04, gap 0.0000%\n"
     ]
    }
   ],
   "source": [
    "# solve\n",
    "combined_model.optimize()"
   ]
  },
  {
   "cell_type": "code",
   "execution_count": 131,
   "id": "8f9ab7dd-49cc-4fa7-9057-a40169866960",
   "metadata": {},
   "outputs": [
    {
     "name": "stdout",
     "output_type": "stream",
     "text": [
      "Total Cost: $26,463.00\n",
      "flow[Bethesda,Boston] = 8.0\n",
      "flow[Bethesda,Chicago] = 2.0\n",
      "flow[Memphis,Atlanta] = 10.0\n",
      "flow[Memphis,Chicago] = 12.0\n",
      "flow[Kansas_City,Omaha] = 7.0\n",
      "flow[Fort_Collins,Denver] = 6.0\n",
      "flow[Provo,Seattle] = 11.0\n",
      "open[Bethesda] = 1.0\n",
      "open[Memphis] = 1.0\n",
      "open[Kansas_City] = 1.0\n",
      "open[Fort_Collins] = 1.0\n",
      "open[Provo] = 1.0\n"
     ]
    }
   ],
   "source": [
    "# Print answer\n",
    "print(f\"Total Cost: ${combined_model.objVal:,.2f}\")\n",
    "for var in combined_model.getVars():\n",
    "    if var.x > 0:\n",
    "        print(f\"{var.varName} = {var.x}\")"
   ]
  }
 ],
 "metadata": {
  "kernelspec": {
   "display_name": "global",
   "language": "python",
   "name": "python3"
  },
  "language_info": {
   "codemirror_mode": {
    "name": "ipython",
    "version": 3
   },
   "file_extension": ".py",
   "mimetype": "text/x-python",
   "name": "python",
   "nbconvert_exporter": "python",
   "pygments_lexer": "ipython3",
   "version": "3.12.3"
  }
 },
 "nbformat": 4,
 "nbformat_minor": 5
}
