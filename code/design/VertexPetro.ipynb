{
 "cells": [
  {
   "cell_type": "code",
   "execution_count": null,
   "id": "e926444d",
   "metadata": {},
   "outputs": [],
   "source": [
    "# import the proper packages\n",
    "import pandas as pd\n",
    "import gurobipy as gp\n",
    "from gurobipy import GRB"
   ]
  },
  {
   "cell_type": "code",
   "execution_count": null,
   "id": "023d0eba",
   "metadata": {},
   "outputs": [],
   "source": [
    "# Get data\n",
    "# demand is in a sheet called 'Table1'\n"
   ]
  },
  {
   "cell_type": "code",
   "execution_count": null,
   "id": "c5fafc0d-62a5-411f-a572-42d3a04ec59a",
   "metadata": {},
   "outputs": [],
   "source": [
    "# convert the demand DataFrame to a dictionary\n"
   ]
  },
  {
   "cell_type": "code",
   "execution_count": null,
   "id": "164ab13d",
   "metadata": {},
   "outputs": [],
   "source": [
    "# Create the plants as a list\n"
   ]
  },
  {
   "cell_type": "code",
   "execution_count": null,
   "id": "0d6f3f1a",
   "metadata": {},
   "outputs": [],
   "source": [
    "# Create the markets as a list\n"
   ]
  },
  {
   "cell_type": "code",
   "execution_count": null,
   "id": "eecf324e",
   "metadata": {},
   "outputs": [],
   "source": [
    "# Get data\n",
    "# the capacity and fixed costs are in a sheet labeled 'Table3'\n"
   ]
  },
  {
   "cell_type": "code",
   "execution_count": null,
   "id": "38050b62",
   "metadata": {},
   "outputs": [],
   "source": [
    "# Create a dictionary to hold the low capacity for each plant\n"
   ]
  },
  {
   "cell_type": "code",
   "execution_count": null,
   "id": "c86bcf03",
   "metadata": {},
   "outputs": [],
   "source": [
    "# Create a dictionary to hold the high capacity for each plant\n"
   ]
  },
  {
   "cell_type": "code",
   "execution_count": null,
   "id": "4d9ba6c6",
   "metadata": {},
   "outputs": [],
   "source": [
    "# Create a dictionary to hold the low fixed cost for each plant\n"
   ]
  },
  {
   "cell_type": "code",
   "execution_count": null,
   "id": "e7360f07",
   "metadata": {},
   "outputs": [],
   "source": [
    "# Create a dictionary to hold the high capacity for each plant\n"
   ]
  },
  {
   "cell_type": "code",
   "execution_count": null,
   "id": "2576fb8d",
   "metadata": {},
   "outputs": [],
   "source": [
    "# Get data\n",
    "# Variable costs are in sheet labeled 'Table2'\n"
   ]
  },
  {
   "cell_type": "code",
   "execution_count": null,
   "id": "e5f01a7e",
   "metadata": {},
   "outputs": [],
   "source": [
    "# Convert variable costs to a list of lists\n",
    "# call it transportation_costs\n"
   ]
  },
  {
   "cell_type": "code",
   "execution_count": null,
   "id": "7fbe623e",
   "metadata": {},
   "outputs": [],
   "source": [
    "# Time to start create the MIP problem\n"
   ]
  },
  {
   "cell_type": "code",
   "execution_count": null,
   "id": "b01d8ca5-bb7f-4a6c-b680-de7df77df54e",
   "metadata": {},
   "outputs": [],
   "source": [
    "# Create the flow variables from plants to markets\n",
    "\n",
    "\n",
    "# Update the model\n"
   ]
  },
  {
   "cell_type": "code",
   "execution_count": null,
   "id": "6959767b-d38b-4b60-b27f-ae82e967acc1",
   "metadata": {},
   "outputs": [],
   "source": [
    "# What does the variable flow look like?\n"
   ]
  },
  {
   "cell_type": "code",
   "execution_count": null,
   "id": "4afa8d78-eb85-42f0-adcc-4ab86b5d05f8",
   "metadata": {},
   "outputs": [],
   "source": [
    "# Display the current state of the model \n"
   ]
  },
  {
   "cell_type": "code",
   "execution_count": null,
   "id": "d59ece18-5a90-4868-b8c2-406f8cc671d2",
   "metadata": {},
   "outputs": [],
   "source": [
    "# Make sure you meet demand for each market\n"
   ]
  },
  {
   "cell_type": "code",
   "execution_count": null,
   "id": "7c40c266-5085-40ef-94fb-a673cc148d87",
   "metadata": {},
   "outputs": [],
   "source": [
    "# Create the binary variables to open low or high capacity plants\n"
   ]
  },
  {
   "cell_type": "code",
   "execution_count": null,
   "id": "70983014-1fc4-4c59-9fa4-66ac57e40f82",
   "metadata": {},
   "outputs": [],
   "source": [
    "# Create capacity constraints being sure you stay under capacity\n"
   ]
  },
  {
   "cell_type": "code",
   "execution_count": null,
   "id": "582c833c-3825-439e-994f-0bbd45d5f778",
   "metadata": {},
   "outputs": [],
   "source": [
    "# Solve the model\n"
   ]
  },
  {
   "cell_type": "code",
   "execution_count": null,
   "id": "b39d75cd-14ad-4ce1-90ca-eca69ba03e86",
   "metadata": {},
   "outputs": [],
   "source": [
    "# Print out the results\n"
   ]
  }
 ],
 "metadata": {
  "kernelspec": {
   "display_name": "Python 3 (ipykernel)",
   "language": "python",
   "name": "python3"
  },
  "language_info": {
   "codemirror_mode": {
    "name": "ipython",
    "version": 3
   },
   "file_extension": ".py",
   "mimetype": "text/x-python",
   "name": "python",
   "nbconvert_exporter": "python",
   "pygments_lexer": "ipython3",
   "version": "3.12.7"
  }
 },
 "nbformat": 4,
 "nbformat_minor": 5
}
