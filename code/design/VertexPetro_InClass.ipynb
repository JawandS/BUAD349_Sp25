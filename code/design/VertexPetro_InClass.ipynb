{
 "cells": [
  {
   "cell_type": "code",
   "execution_count": 1,
   "id": "e926444d",
   "metadata": {},
   "outputs": [],
   "source": [
    "# import the proper packages\n",
    "import pandas as pd\n",
    "import gurobipy as gp\n",
    "from gurobipy import GRB"
   ]
  },
  {
   "cell_type": "code",
   "execution_count": 2,
   "id": "023d0eba",
   "metadata": {},
   "outputs": [
    {
     "data": {
      "text/html": [
       "<div>\n",
       "<style scoped>\n",
       "    .dataframe tbody tr th:only-of-type {\n",
       "        vertical-align: middle;\n",
       "    }\n",
       "\n",
       "    .dataframe tbody tr th {\n",
       "        vertical-align: top;\n",
       "    }\n",
       "\n",
       "    .dataframe thead th {\n",
       "        text-align: right;\n",
       "    }\n",
       "</style>\n",
       "<table border=\"1\" class=\"dataframe\">\n",
       "  <thead>\n",
       "    <tr style=\"text-align: right;\">\n",
       "      <th></th>\n",
       "      <th>demand</th>\n",
       "    </tr>\n",
       "    <tr>\n",
       "      <th>region</th>\n",
       "      <th></th>\n",
       "    </tr>\n",
       "  </thead>\n",
       "  <tbody>\n",
       "    <tr>\n",
       "      <th>North_America</th>\n",
       "      <td>12</td>\n",
       "    </tr>\n",
       "    <tr>\n",
       "      <th>South_America</th>\n",
       "      <td>8</td>\n",
       "    </tr>\n",
       "    <tr>\n",
       "      <th>Europe</th>\n",
       "      <td>14</td>\n",
       "    </tr>\n",
       "    <tr>\n",
       "      <th>Asia</th>\n",
       "      <td>16</td>\n",
       "    </tr>\n",
       "    <tr>\n",
       "      <th>Africa</th>\n",
       "      <td>7</td>\n",
       "    </tr>\n",
       "  </tbody>\n",
       "</table>\n",
       "</div>"
      ],
      "text/plain": [
       "               demand\n",
       "region               \n",
       "North_America      12\n",
       "South_America       8\n",
       "Europe             14\n",
       "Asia               16\n",
       "Africa              7"
      ]
     },
     "execution_count": 2,
     "metadata": {},
     "output_type": "execute_result"
    }
   ],
   "source": [
    "# Get data\n",
    "# demand is in a sheet called 'Table1'\n",
    "demand = pd.read_excel('VertexPetroSystems.xlsx', sheet_name='Table1', index_col=0)\n",
    "demand"
   ]
  },
  {
   "cell_type": "code",
   "execution_count": 3,
   "id": "c5fafc0d-62a5-411f-a572-42d3a04ec59a",
   "metadata": {},
   "outputs": [
    {
     "data": {
      "text/plain": [
       "{'North_America': 12,\n",
       " 'South_America': 8,\n",
       " 'Europe': 14,\n",
       " 'Asia': 16,\n",
       " 'Africa': 7}"
      ]
     },
     "execution_count": 3,
     "metadata": {},
     "output_type": "execute_result"
    }
   ],
   "source": [
    "# convert the demand DataFrame to a dictionary\n",
    "demand_dict = demand['demand'].to_dict()\n",
    "demand_dict"
   ]
  },
  {
   "cell_type": "code",
   "execution_count": 4,
   "id": "164ab13d",
   "metadata": {},
   "outputs": [
    {
     "data": {
      "text/plain": [
       "['North_America', 'South_America', 'Europe', 'Asia', 'Africa']"
      ]
     },
     "execution_count": 4,
     "metadata": {},
     "output_type": "execute_result"
    }
   ],
   "source": [
    "# Create the plants as a list\n",
    "plants = list(demand_dict.keys())\n",
    "plants"
   ]
  },
  {
   "cell_type": "code",
   "execution_count": 5,
   "id": "0d6f3f1a",
   "metadata": {},
   "outputs": [
    {
     "data": {
      "text/plain": [
       "['North_America', 'South_America', 'Europe', 'Asia', 'Africa']"
      ]
     },
     "execution_count": 5,
     "metadata": {},
     "output_type": "execute_result"
    }
   ],
   "source": [
    "# Create the markets as a list\n",
    "markets = list(demand_dict.keys())\n",
    "markets"
   ]
  },
  {
   "cell_type": "code",
   "execution_count": 6,
   "id": "eecf324e",
   "metadata": {},
   "outputs": [
    {
     "data": {
      "text/html": [
       "<div>\n",
       "<style scoped>\n",
       "    .dataframe tbody tr th:only-of-type {\n",
       "        vertical-align: middle;\n",
       "    }\n",
       "\n",
       "    .dataframe tbody tr th {\n",
       "        vertical-align: top;\n",
       "    }\n",
       "\n",
       "    .dataframe thead th {\n",
       "        text-align: right;\n",
       "    }\n",
       "</style>\n",
       "<table border=\"1\" class=\"dataframe\">\n",
       "  <thead>\n",
       "    <tr style=\"text-align: right;\">\n",
       "      <th></th>\n",
       "      <th>Low-Capacity</th>\n",
       "      <th>Low-FC</th>\n",
       "      <th>High-Capacity</th>\n",
       "      <th>High-FC</th>\n",
       "    </tr>\n",
       "    <tr>\n",
       "      <th>region</th>\n",
       "      <th></th>\n",
       "      <th></th>\n",
       "      <th></th>\n",
       "      <th></th>\n",
       "    </tr>\n",
       "  </thead>\n",
       "  <tbody>\n",
       "    <tr>\n",
       "      <th>North_America</th>\n",
       "      <td>10</td>\n",
       "      <td>6000</td>\n",
       "      <td>20</td>\n",
       "      <td>9000</td>\n",
       "    </tr>\n",
       "    <tr>\n",
       "      <th>South_America</th>\n",
       "      <td>10</td>\n",
       "      <td>4500</td>\n",
       "      <td>20</td>\n",
       "      <td>6750</td>\n",
       "    </tr>\n",
       "    <tr>\n",
       "      <th>Europe</th>\n",
       "      <td>10</td>\n",
       "      <td>6500</td>\n",
       "      <td>20</td>\n",
       "      <td>9750</td>\n",
       "    </tr>\n",
       "    <tr>\n",
       "      <th>Asia</th>\n",
       "      <td>10</td>\n",
       "      <td>4100</td>\n",
       "      <td>20</td>\n",
       "      <td>6150</td>\n",
       "    </tr>\n",
       "    <tr>\n",
       "      <th>Africa</th>\n",
       "      <td>10</td>\n",
       "      <td>4000</td>\n",
       "      <td>20</td>\n",
       "      <td>6000</td>\n",
       "    </tr>\n",
       "  </tbody>\n",
       "</table>\n",
       "</div>"
      ],
      "text/plain": [
       "               Low-Capacity  Low-FC  High-Capacity  High-FC\n",
       "region                                                     \n",
       "North_America            10    6000             20     9000\n",
       "South_America            10    4500             20     6750\n",
       "Europe                   10    6500             20     9750\n",
       "Asia                     10    4100             20     6150\n",
       "Africa                   10    4000             20     6000"
      ]
     },
     "execution_count": 6,
     "metadata": {},
     "output_type": "execute_result"
    }
   ],
   "source": [
    "# Get data\n",
    "# the capacity and fixed costs are in a sheet labeled 'Table3'\n",
    "capacity_and_fc = pd.read_excel('VertexPetroSystems.xlsx', sheet_name='Table3', index_col=0)\n",
    "capacity_and_fc"
   ]
  },
  {
   "cell_type": "code",
   "execution_count": 7,
   "id": "38050b62",
   "metadata": {},
   "outputs": [
    {
     "data": {
      "text/plain": [
       "{'North_America': 10,\n",
       " 'South_America': 10,\n",
       " 'Europe': 10,\n",
       " 'Asia': 10,\n",
       " 'Africa': 10}"
      ]
     },
     "execution_count": 7,
     "metadata": {},
     "output_type": "execute_result"
    }
   ],
   "source": [
    "# Create a dictionary to hold the low capacity for each plant\n",
    "low_capacity = capacity_and_fc['Low-Capacity'].to_dict()\n",
    "low_capacity"
   ]
  },
  {
   "cell_type": "code",
   "execution_count": 8,
   "id": "c86bcf03",
   "metadata": {},
   "outputs": [
    {
     "data": {
      "text/plain": [
       "{'North_America': 20,\n",
       " 'South_America': 20,\n",
       " 'Europe': 20,\n",
       " 'Asia': 20,\n",
       " 'Africa': 20}"
      ]
     },
     "execution_count": 8,
     "metadata": {},
     "output_type": "execute_result"
    }
   ],
   "source": [
    "# Create a dictionary to hold the high capacity for each plant\n",
    "high_capacity = capacity_and_fc['High-Capacity'].to_dict()\n",
    "high_capacity"
   ]
  },
  {
   "cell_type": "code",
   "execution_count": 9,
   "id": "4d9ba6c6",
   "metadata": {},
   "outputs": [
    {
     "data": {
      "text/plain": [
       "{'North_America': 6000,\n",
       " 'South_America': 4500,\n",
       " 'Europe': 6500,\n",
       " 'Asia': 4100,\n",
       " 'Africa': 4000}"
      ]
     },
     "execution_count": 9,
     "metadata": {},
     "output_type": "execute_result"
    }
   ],
   "source": [
    "# Create a dictionary to hold the low fixed cost for each plant\n",
    "low_fixed_cost = capacity_and_fc['Low-FC'].to_dict()\n",
    "low_fixed_cost"
   ]
  },
  {
   "cell_type": "code",
   "execution_count": 10,
   "id": "e7360f07",
   "metadata": {},
   "outputs": [
    {
     "data": {
      "text/plain": [
       "{'North_America': 9000,\n",
       " 'South_America': 6750,\n",
       " 'Europe': 9750,\n",
       " 'Asia': 6150,\n",
       " 'Africa': 6000}"
      ]
     },
     "execution_count": 10,
     "metadata": {},
     "output_type": "execute_result"
    }
   ],
   "source": [
    "# Create a dictionary to hold the high capacity for each plant\n",
    "high_fixed_cost = capacity_and_fc['High-FC'].to_dict()\n",
    "high_fixed_cost"
   ]
  },
  {
   "cell_type": "code",
   "execution_count": 11,
   "id": "2576fb8d",
   "metadata": {},
   "outputs": [
    {
     "data": {
      "text/html": [
       "<div>\n",
       "<style scoped>\n",
       "    .dataframe tbody tr th:only-of-type {\n",
       "        vertical-align: middle;\n",
       "    }\n",
       "\n",
       "    .dataframe tbody tr th {\n",
       "        vertical-align: top;\n",
       "    }\n",
       "\n",
       "    .dataframe thead th {\n",
       "        text-align: right;\n",
       "    }\n",
       "</style>\n",
       "<table border=\"1\" class=\"dataframe\">\n",
       "  <thead>\n",
       "    <tr style=\"text-align: right;\">\n",
       "      <th></th>\n",
       "      <th>North_America</th>\n",
       "      <th>South_America</th>\n",
       "      <th>Europe</th>\n",
       "      <th>Asia</th>\n",
       "      <th>Africa</th>\n",
       "    </tr>\n",
       "    <tr>\n",
       "      <th>region</th>\n",
       "      <th></th>\n",
       "      <th></th>\n",
       "      <th></th>\n",
       "      <th></th>\n",
       "      <th></th>\n",
       "    </tr>\n",
       "  </thead>\n",
       "  <tbody>\n",
       "    <tr>\n",
       "      <th>North_America</th>\n",
       "      <td>81</td>\n",
       "      <td>92</td>\n",
       "      <td>101</td>\n",
       "      <td>130</td>\n",
       "      <td>115</td>\n",
       "    </tr>\n",
       "    <tr>\n",
       "      <th>South_America</th>\n",
       "      <td>117</td>\n",
       "      <td>77</td>\n",
       "      <td>108</td>\n",
       "      <td>98</td>\n",
       "      <td>100</td>\n",
       "    </tr>\n",
       "    <tr>\n",
       "      <th>Europe</th>\n",
       "      <td>102</td>\n",
       "      <td>105</td>\n",
       "      <td>95</td>\n",
       "      <td>119</td>\n",
       "      <td>111</td>\n",
       "    </tr>\n",
       "    <tr>\n",
       "      <th>Asia</th>\n",
       "      <td>115</td>\n",
       "      <td>125</td>\n",
       "      <td>90</td>\n",
       "      <td>59</td>\n",
       "      <td>74</td>\n",
       "    </tr>\n",
       "    <tr>\n",
       "      <th>Africa</th>\n",
       "      <td>142</td>\n",
       "      <td>100</td>\n",
       "      <td>103</td>\n",
       "      <td>105</td>\n",
       "      <td>71</td>\n",
       "    </tr>\n",
       "  </tbody>\n",
       "</table>\n",
       "</div>"
      ],
      "text/plain": [
       "               North_America  South_America  Europe  Asia  Africa\n",
       "region                                                           \n",
       "North_America             81             92     101   130     115\n",
       "South_America            117             77     108    98     100\n",
       "Europe                   102            105      95   119     111\n",
       "Asia                     115            125      90    59      74\n",
       "Africa                   142            100     103   105      71"
      ]
     },
     "execution_count": 11,
     "metadata": {},
     "output_type": "execute_result"
    }
   ],
   "source": [
    "# Get data\n",
    "# Variable costs are in sheet labeled 'Table2'\n",
    "var_cost = pd.read_excel('VertexPetroSystems.xlsx', sheet_name='Table2', index_col=0)\n",
    "var_cost"
   ]
  },
  {
   "cell_type": "code",
   "execution_count": 12,
   "id": "e5f01a7e",
   "metadata": {},
   "outputs": [
    {
     "data": {
      "text/plain": [
       "[[81, 92, 101, 130, 115],\n",
       " [117, 77, 108, 98, 100],\n",
       " [102, 105, 95, 119, 111],\n",
       " [115, 125, 90, 59, 74],\n",
       " [142, 100, 103, 105, 71]]"
      ]
     },
     "execution_count": 12,
     "metadata": {},
     "output_type": "execute_result"
    }
   ],
   "source": [
    "# Convert variable costs to a list of lists\n",
    "# call it transportation_costs\n",
    "transportation_costs = var_cost.values.tolist()\n",
    "transportation_costs"
   ]
  },
  {
   "cell_type": "code",
   "execution_count": 13,
   "id": "7fbe623e",
   "metadata": {},
   "outputs": [
    {
     "name": "stdout",
     "output_type": "stream",
     "text": [
      "Restricted license - for non-production use only - expires 2026-11-23\n"
     ]
    }
   ],
   "source": [
    "# Time to start create the MIP problem\n",
    "m = gp.Model('VertexPetro')\n",
    "m.ModelSense = GRB.MINIMIZE"
   ]
  },
  {
   "cell_type": "code",
   "execution_count": 14,
   "id": "b01d8ca5-bb7f-4a6c-b680-de7df77df54e",
   "metadata": {},
   "outputs": [],
   "source": [
    "# Create the flow variables from plants to markets\n",
    "flow = m.addVars(plants, markets, obj=transportation_costs, name='flow')\n",
    "\n",
    "# Update the model\n",
    "m.update()"
   ]
  },
  {
   "cell_type": "code",
   "execution_count": 15,
   "id": "6959767b-d38b-4b60-b27f-ae82e967acc1",
   "metadata": {},
   "outputs": [
    {
     "data": {
      "text/plain": [
       "{('North_America',\n",
       "  'North_America'): <gurobi.Var flow[North_America,North_America]>,\n",
       " ('North_America',\n",
       "  'South_America'): <gurobi.Var flow[North_America,South_America]>,\n",
       " ('North_America', 'Europe'): <gurobi.Var flow[North_America,Europe]>,\n",
       " ('North_America', 'Asia'): <gurobi.Var flow[North_America,Asia]>,\n",
       " ('North_America', 'Africa'): <gurobi.Var flow[North_America,Africa]>,\n",
       " ('South_America',\n",
       "  'North_America'): <gurobi.Var flow[South_America,North_America]>,\n",
       " ('South_America',\n",
       "  'South_America'): <gurobi.Var flow[South_America,South_America]>,\n",
       " ('South_America', 'Europe'): <gurobi.Var flow[South_America,Europe]>,\n",
       " ('South_America', 'Asia'): <gurobi.Var flow[South_America,Asia]>,\n",
       " ('South_America', 'Africa'): <gurobi.Var flow[South_America,Africa]>,\n",
       " ('Europe', 'North_America'): <gurobi.Var flow[Europe,North_America]>,\n",
       " ('Europe', 'South_America'): <gurobi.Var flow[Europe,South_America]>,\n",
       " ('Europe', 'Europe'): <gurobi.Var flow[Europe,Europe]>,\n",
       " ('Europe', 'Asia'): <gurobi.Var flow[Europe,Asia]>,\n",
       " ('Europe', 'Africa'): <gurobi.Var flow[Europe,Africa]>,\n",
       " ('Asia', 'North_America'): <gurobi.Var flow[Asia,North_America]>,\n",
       " ('Asia', 'South_America'): <gurobi.Var flow[Asia,South_America]>,\n",
       " ('Asia', 'Europe'): <gurobi.Var flow[Asia,Europe]>,\n",
       " ('Asia', 'Asia'): <gurobi.Var flow[Asia,Asia]>,\n",
       " ('Asia', 'Africa'): <gurobi.Var flow[Asia,Africa]>,\n",
       " ('Africa', 'North_America'): <gurobi.Var flow[Africa,North_America]>,\n",
       " ('Africa', 'South_America'): <gurobi.Var flow[Africa,South_America]>,\n",
       " ('Africa', 'Europe'): <gurobi.Var flow[Africa,Europe]>,\n",
       " ('Africa', 'Asia'): <gurobi.Var flow[Africa,Asia]>,\n",
       " ('Africa', 'Africa'): <gurobi.Var flow[Africa,Africa]>}"
      ]
     },
     "execution_count": 15,
     "metadata": {},
     "output_type": "execute_result"
    }
   ],
   "source": [
    "# What does the variable flow look like?\n",
    "flow"
   ]
  },
  {
   "cell_type": "code",
   "execution_count": 16,
   "id": "4afa8d78-eb85-42f0-adcc-4ab86b5d05f8",
   "metadata": {},
   "outputs": [
    {
     "name": "stdout",
     "output_type": "stream",
     "text": [
      "Minimize\n",
      "81.0 flow[North_America,North_America] + 92.0 flow[North_America,South_America]\n",
      "+ 101.0 flow[North_America,Europe] + 130.0 flow[North_America,Asia]\n",
      "+ 115.0 flow[North_America,Africa] + 117.0 flow[South_America,North_America]\n",
      "+ 77.0 flow[South_America,South_America] + 108.0 flow[South_America,Europe]\n",
      "+ 98.0 flow[South_America,Asia] + 100.0 flow[South_America,Africa]\n",
      "+ 102.0 flow[Europe,North_America] + 105.0 flow[Europe,South_America]\n",
      "+ 95.0 flow[Europe,Europe] + 119.0 flow[Europe,Asia] + 111.0 flow[Europe,Africa]\n",
      "+ 115.0 flow[Asia,North_America] + 125.0 flow[Asia,South_America]\n",
      "+ 90.0 flow[Asia,Europe] + 59.0 flow[Asia,Asia] + 74.0 flow[Asia,Africa]\n",
      "+ 142.0 flow[Africa,North_America] + 100.0 flow[Africa,South_America]\n",
      "+ 103.0 flow[Africa,Europe] + 105.0 flow[Africa,Asia] + 71.0 flow[Africa,Africa]\n",
      "Subject To\n"
     ]
    },
    {
     "name": "stderr",
     "output_type": "stream",
     "text": [
      "/tmp/ipykernel_469/224434616.py:2: DeprecationWarning: Model.display() is deprecated\n",
      "  m.display()\n"
     ]
    }
   ],
   "source": [
    "# Display the current state of the model \n",
    "m.display()"
   ]
  },
  {
   "cell_type": "code",
   "execution_count": 17,
   "id": "d59ece18-5a90-4868-b8c2-406f8cc671d2",
   "metadata": {},
   "outputs": [
    {
     "name": "stdout",
     "output_type": "stream",
     "text": [
      "Minimize\n",
      "81.0 flow[North_America,North_America] + 92.0 flow[North_America,South_America]\n",
      "+ 101.0 flow[North_America,Europe] + 130.0 flow[North_America,Asia]\n",
      "+ 115.0 flow[North_America,Africa] + 117.0 flow[South_America,North_America]\n",
      "+ 77.0 flow[South_America,South_America] + 108.0 flow[South_America,Europe]\n",
      "+ 98.0 flow[South_America,Asia] + 100.0 flow[South_America,Africa]\n",
      "+ 102.0 flow[Europe,North_America] + 105.0 flow[Europe,South_America]\n",
      "+ 95.0 flow[Europe,Europe] + 119.0 flow[Europe,Asia] + 111.0 flow[Europe,Africa]\n",
      "+ 115.0 flow[Asia,North_America] + 125.0 flow[Asia,South_America]\n",
      "+ 90.0 flow[Asia,Europe] + 59.0 flow[Asia,Asia] + 74.0 flow[Asia,Africa]\n",
      "+ 142.0 flow[Africa,North_America] + 100.0 flow[Africa,South_America]\n",
      "+ 103.0 flow[Africa,Europe] + 105.0 flow[Africa,Asia] + 71.0 flow[Africa,Africa]\n",
      "Subject To\n",
      "demand_North_America: flow[North_America,North_America] +\n",
      "flow[South_America,North_America] + flow[Europe,North_America] +\n",
      " flow[Asia,North_America] + flow[Africa,North_America] >= 12\n",
      "demand_South_America: flow[North_America,South_America] +\n",
      "flow[South_America,South_America] + flow[Europe,South_America] +\n",
      " flow[Asia,South_America] + flow[Africa,South_America] >= 8\n",
      "demand_Europe: flow[North_America,Europe] + flow[South_America,Europe] +\n",
      " flow[Europe,Europe] + flow[Asia,Europe] + flow[Africa,Europe] >= 14\n",
      "demand_Asia: flow[North_America,Asia] + flow[South_America,Asia] + flow[Europe,Asia] +\n",
      " flow[Asia,Asia] + flow[Africa,Asia] >= 16\n",
      "demand_Africa: flow[North_America,Africa] + flow[South_America,Africa] +\n",
      " flow[Europe,Africa] + flow[Asia,Africa] + flow[Africa,Africa] >= 7\n"
     ]
    },
    {
     "name": "stderr",
     "output_type": "stream",
     "text": [
      "/tmp/ipykernel_469/907243498.py:6: DeprecationWarning: Model.display() is deprecated\n",
      "  m.display()\n"
     ]
    }
   ],
   "source": [
    "# Make sure you meet demand for each market\n",
    "for j in markets:\n",
    "    m.addConstr(flow.sum('*', j) >= demand_dict[j], name=f'demand_{j}')\n",
    "\n",
    "m.update()\n",
    "m.display()"
   ]
  },
  {
   "cell_type": "code",
   "execution_count": 18,
   "id": "7c40c266-5085-40ef-94fb-a673cc148d87",
   "metadata": {},
   "outputs": [
    {
     "name": "stdout",
     "output_type": "stream",
     "text": [
      "Minimize\n",
      "81.0 flow[North_America,North_America] + 92.0 flow[North_America,South_America]\n",
      "+ 101.0 flow[North_America,Europe] + 130.0 flow[North_America,Asia]\n",
      "+ 115.0 flow[North_America,Africa] + 117.0 flow[South_America,North_America]\n",
      "+ 77.0 flow[South_America,South_America] + 108.0 flow[South_America,Europe]\n",
      "+ 98.0 flow[South_America,Asia] + 100.0 flow[South_America,Africa]\n",
      "+ 102.0 flow[Europe,North_America] + 105.0 flow[Europe,South_America]\n",
      "+ 95.0 flow[Europe,Europe] + 119.0 flow[Europe,Asia] + 111.0 flow[Europe,Africa]\n",
      "+ 115.0 flow[Asia,North_America] + 125.0 flow[Asia,South_America]\n",
      "+ 90.0 flow[Asia,Europe] + 59.0 flow[Asia,Asia] + 74.0 flow[Asia,Africa]\n",
      "+ 142.0 flow[Africa,North_America] + 100.0 flow[Africa,South_America]\n",
      "+ 103.0 flow[Africa,Europe] + 105.0 flow[Africa,Asia] + 71.0 flow[Africa,Africa]\n",
      "+ 6000.0 y_low_North_America + 9000.0 y_high_North_America + 4500.0 y_low_South_America\n",
      "+ 6750.0 y_high_South_America + 6500.0 y_low_Europe + 9750.0 y_high_Europe\n",
      "+ 4100.0 y_low_Asia + 6150.0 y_high_Asia + 4000.0 y_low_Africa + 6000.0 y_high_Africa\n",
      "Subject To\n",
      "demand_North_America: flow[North_America,North_America] +\n",
      "flow[South_America,North_America] + flow[Europe,North_America] +\n",
      " flow[Asia,North_America] + flow[Africa,North_America] >= 12\n",
      "demand_South_America: flow[North_America,South_America] +\n",
      "flow[South_America,South_America] + flow[Europe,South_America] +\n",
      " flow[Asia,South_America] + flow[Africa,South_America] >= 8\n",
      "demand_Europe: flow[North_America,Europe] + flow[South_America,Europe] +\n",
      " flow[Europe,Europe] + flow[Asia,Europe] + flow[Africa,Europe] >= 14\n",
      "demand_Asia: flow[North_America,Asia] + flow[South_America,Asia] + flow[Europe,Asia] +\n",
      " flow[Asia,Asia] + flow[Africa,Asia] >= 16\n",
      "demand_Africa: flow[North_America,Africa] + flow[South_America,Africa] +\n",
      " flow[Europe,Africa] + flow[Asia,Africa] + flow[Africa,Africa] >= 7\n",
      "Binaries\n",
      "['y_low_North_America', 'y_high_North_America', 'y_low_South_America',\n",
      "'y_high_South_America', 'y_low_Europe', 'y_high_Europe', 'y_low_Asia', 'y_high_Asia',\n",
      " 'y_low_Africa', 'y_high_Africa']\n"
     ]
    },
    {
     "name": "stderr",
     "output_type": "stream",
     "text": [
      "/tmp/ipykernel_469/1745217750.py:7: DeprecationWarning: Model.display() is deprecated\n",
      "  m.display()\n"
     ]
    }
   ],
   "source": [
    "# Create the binary variables to open low or high capacity plants\n",
    "for i in plants:\n",
    "    m.addVar(vtype=GRB.BINARY, obj=low_fixed_cost[i], name=f'y_low_{i}')\n",
    "    m.addVar(vtype=GRB.BINARY, obj=high_fixed_cost[i], name=f'y_high_{i}')\n",
    "\n",
    "m.update()\n",
    "m.display()"
   ]
  },
  {
   "cell_type": "code",
   "execution_count": 19,
   "id": "70983014-1fc4-4c59-9fa4-66ac57e40f82",
   "metadata": {
    "scrolled": true
   },
   "outputs": [
    {
     "name": "stdout",
     "output_type": "stream",
     "text": [
      "Minimize\n",
      "81.0 flow[North_America,North_America] + 92.0 flow[North_America,South_America]\n",
      "+ 101.0 flow[North_America,Europe] + 130.0 flow[North_America,Asia]\n",
      "+ 115.0 flow[North_America,Africa] + 117.0 flow[South_America,North_America]\n",
      "+ 77.0 flow[South_America,South_America] + 108.0 flow[South_America,Europe]\n",
      "+ 98.0 flow[South_America,Asia] + 100.0 flow[South_America,Africa]\n",
      "+ 102.0 flow[Europe,North_America] + 105.0 flow[Europe,South_America]\n",
      "+ 95.0 flow[Europe,Europe] + 119.0 flow[Europe,Asia] + 111.0 flow[Europe,Africa]\n",
      "+ 115.0 flow[Asia,North_America] + 125.0 flow[Asia,South_America]\n",
      "+ 90.0 flow[Asia,Europe] + 59.0 flow[Asia,Asia] + 74.0 flow[Asia,Africa]\n",
      "+ 142.0 flow[Africa,North_America] + 100.0 flow[Africa,South_America]\n",
      "+ 103.0 flow[Africa,Europe] + 105.0 flow[Africa,Asia] + 71.0 flow[Africa,Africa]\n"
     ]
    },
    {
     "name": "stderr",
     "output_type": "stream",
     "text": [
      "/tmp/ipykernel_469/669566540.py:8: DeprecationWarning: Model.display() is deprecated\n",
      "  m.display()\n"
     ]
    },
    {
     "name": "stdout",
     "output_type": "stream",
     "text": [
      "+ 6000.0 y_low_North_America + 9000.0 y_high_North_America + 4500.0 y_low_South_America\n",
      "+ 6750.0 y_high_South_America + 6500.0 y_low_Europe + 9750.0 y_high_Europe\n",
      "+ 4100.0 y_low_Asia + 6150.0 y_high_Asia + 4000.0 y_low_Africa + 6000.0 y_high_Africa\n",
      "Subject To\n",
      "demand_North_America: flow[North_America,North_America] +\n",
      "flow[South_America,North_America] + flow[Europe,North_America] +\n",
      " flow[Asia,North_America] + flow[Africa,North_America] >= 12\n",
      "demand_South_America: flow[North_America,South_America] +\n",
      "flow[South_America,South_America] + flow[Europe,South_America] +\n",
      " flow[Asia,South_America] + flow[Africa,South_America] >= 8\n",
      "demand_Europe: flow[North_America,Europe] + flow[South_America,Europe] +\n",
      " flow[Europe,Europe] + flow[Asia,Europe] + flow[Africa,Europe] >= 14\n",
      "demand_Asia: flow[North_America,Asia] + flow[South_America,Asia] + flow[Europe,Asia] +\n",
      " flow[Asia,Asia] + flow[Africa,Asia] >= 16\n",
      "demand_Africa: flow[North_America,Africa] + flow[South_America,Africa] +\n",
      " flow[Europe,Africa] + flow[Asia,Africa] + flow[Africa,Africa] >= 7\n",
      "capacity_North_America: flow[North_America,North_America] +\n",
      "flow[North_America,South_America] + flow[North_America,Europe] +\n",
      "flow[North_America,Asia] + flow[North_America,Africa] + -10.0 y_low_North_America +\n",
      " -20.0 y_high_North_America <= 0\n",
      "capacity_South_America: flow[South_America,North_America] +\n",
      "flow[South_America,South_America] + flow[South_America,Europe] +\n",
      "flow[South_America,Asia] + flow[South_America,Africa] + -10.0 y_low_South_America +\n",
      " -20.0 y_high_South_America <= 0\n",
      "capacity_Europe: flow[Europe,North_America] + flow[Europe,South_America] +\n",
      "flow[Europe,Europe] + flow[Europe,Asia] + flow[Europe,Africa] + -10.0 y_low_Europe +\n",
      " -20.0 y_high_Europe <= 0\n",
      "capacity_Asia: flow[Asia,North_America] + flow[Asia,South_America] + flow[Asia,Europe]\n",
      " + flow[Asia,Asia] + flow[Asia,Africa] + -10.0 y_low_Asia + -20.0 y_high_Asia <= 0\n",
      "capacity_Africa: flow[Africa,North_America] + flow[Africa,South_America] +\n",
      "flow[Africa,Europe] + flow[Africa,Asia] + flow[Africa,Africa] + -10.0 y_low_Africa +\n",
      " -20.0 y_high_Africa <= 0\n",
      "Binaries\n",
      "['y_low_North_America', 'y_high_North_America', 'y_low_South_America',\n",
      "'y_high_South_America', 'y_low_Europe', 'y_high_Europe', 'y_low_Asia', 'y_high_Asia',\n",
      " 'y_low_Africa', 'y_high_Africa']\n"
     ]
    }
   ],
   "source": [
    "# Create capacity constraints being sure you stay under capacity\n",
    "for i in plants:\n",
    "    m.addConstr(flow.sum(i, '*') <= low_capacity[i]*m.getVarByName(f'y_low_{i}') +\n",
    "                high_capacity[i]*m.getVarByName(f'y_high_{i}'),\n",
    "               name=f'capacity_{i}')\n",
    "\n",
    "m.update()\n",
    "m.display()"
   ]
  },
  {
   "cell_type": "code",
   "execution_count": 20,
   "id": "582c833c-3825-439e-994f-0bbd45d5f778",
   "metadata": {},
   "outputs": [
    {
     "name": "stdout",
     "output_type": "stream",
     "text": [
      "Gurobi Optimizer version 12.0.1 build v12.0.1rc0 (linux64 - \"Ubuntu 24.04.2 LTS\")\n",
      "\n",
      "CPU model: AMD EPYC 7571, instruction set [SSE2|AVX|AVX2]\n",
      "Thread count: 2 physical cores, 4 logical processors, using up to 4 threads\n",
      "\n",
      "Optimize a model with 10 rows, 35 columns and 60 nonzeros\n",
      "Model fingerprint: 0xf5c42200\n",
      "Variable types: 25 continuous, 10 integer (10 binary)\n",
      "Coefficient statistics:\n",
      "  Matrix range     [1e+00, 2e+01]\n",
      "  Objective range  [6e+01, 1e+04]\n",
      "  Bounds range     [1e+00, 1e+00]\n",
      "  RHS range        [7e+00, 2e+01]\n",
      "Presolve time: 0.00s\n",
      "Presolved: 10 rows, 35 columns, 60 nonzeros\n",
      "Variable types: 25 continuous, 10 integer (10 binary)\n",
      "Found heuristic solution: objective 67039.000000\n",
      "\n",
      "Root relaxation: objective 2.277150e+04, 14 iterations, 0.00 seconds (0.00 work units)\n",
      "\n",
      "    Nodes    |    Current Node    |     Objective Bounds      |     Work\n",
      " Expl Unexpl |  Obj  Depth IntInf | Incumbent    BestBd   Gap | It/Node Time\n",
      "\n",
      "     0     0 22771.5000    0    1 67039.0000 22771.5000  66.0%     -    0s\n",
      "H    0     0                    23784.000000 22771.5000  4.26%     -    0s\n",
      "H    0     0                    23751.000000 22771.5000  4.12%     -    0s\n",
      "     0     0 22851.0000    0    1 23751.0000 22851.0000  3.79%     -    0s\n",
      "     0     0 22867.5000    0    1 23751.0000 22867.5000  3.72%     -    0s\n",
      "\n",
      "Explored 1 nodes (16 simplex iterations) in 0.02 seconds (0.00 work units)\n",
      "Thread count was 4 (of 4 available processors)\n",
      "\n",
      "Solution count 2: 23751 67039 \n",
      "\n",
      "Optimal solution found (tolerance 1.00e-04)\n",
      "Best objective 2.375100000000e+04, best bound 2.375100000000e+04, gap 0.0000%\n"
     ]
    }
   ],
   "source": [
    "# Solve the model\n",
    "m.optimize()"
   ]
  },
  {
   "cell_type": "code",
   "execution_count": 21,
   "id": "b39d75cd-14ad-4ce1-90ca-eca69ba03e86",
   "metadata": {},
   "outputs": [
    {
     "name": "stdout",
     "output_type": "stream",
     "text": [
      "Total Cost: $23,751.00\n",
      "flow[South_America,North_America] = 12.0\n",
      "flow[South_America,South_America] = 8.0\n",
      "flow[Asia,Europe] = 4.0\n",
      "flow[Asia,Asia] = 16.0\n",
      "flow[Africa,Europe] = 10.0\n",
      "flow[Africa,Africa] = 7.0\n",
      "y_high_South_America = 1.0\n",
      "y_high_Asia = 1.0\n",
      "y_high_Africa = 1.0\n"
     ]
    }
   ],
   "source": [
    "# Print out the results\n",
    "print(f'Total Cost: ${m.ObjVal:,.2f}')\n",
    "for v in m.getVars():\n",
    "    if v.X > 0:\n",
    "        print(f'{v.VarName} = {v.X}')"
   ]
  }
 ],
 "metadata": {
  "kernelspec": {
   "display_name": "Python 3 (ipykernel)",
   "language": "python",
   "name": "python3"
  },
  "language_info": {
   "codemirror_mode": {
    "name": "ipython",
    "version": 3
   },
   "file_extension": ".py",
   "mimetype": "text/x-python",
   "name": "python",
   "nbconvert_exporter": "python",
   "pygments_lexer": "ipython3",
   "version": "3.12.9"
  }
 },
 "nbformat": 4,
 "nbformat_minor": 5
}
