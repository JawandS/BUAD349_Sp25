{
 "cells": [
  {
   "cell_type": "markdown",
   "id": "e27f4a86-0525-464e-8871-7ef5a5995ad7",
   "metadata": {},
   "source": [
    "# Exploring the Galaxy Toys Example\n",
    "\n",
    "We are now going to explore the Galaxy Toys example a bit more. Let's first see how to create and solve the model using Gurobi. Then, how can we get the sensitivity analysis information out?"
   ]
  },
  {
   "cell_type": "markdown",
   "id": "7b6d6b86-1b9f-42fd-b74f-1a2bc64b7148",
   "metadata": {},
   "source": [
    "## Formulation \n",
    "\n",
    "Recall that our formulation looked like this:\n",
    "\n",
    "| | | |\n",
    "| --- | --- | --- |\n",
    "| Let | | |\n",
    "| $x_{s}$ | = | number of lots (dozens) of Space Rays to produce next week |\n",
    "| $x_{p}$ | = | number of lots (dozens) of Phasers to produce next week |\n",
    "\n",
    "| | | | | | | |\n",
    "| --- | --- | --- | --- | --- | --- | --- |\n",
    "| $\\max$ | $8x_{s}$ | $+$ | $5x_{p}$ | | | |\n",
    "| s.t. | $2x_{s}$ | $+$ | $1x_{p}$ | $\\le$ | $1200$ | {plastic pounds} |\n",
    "| | $3x_{s}$ | $+$ | $4x_{p}$ | $\\le$ | $2400$ | {minutes of production} |\n",
    "| | $1x_{s}$ | $+$ | $1x_{p}$ | $\\le$ | $800$ | {overall production limit} |\n",
    "| | $1x_{s}$ | $-$ | $1x_{p}$ | $\\le$ | $450$ | {mix of products produced} |\n",
    "| | $x_{s}$ | | | $\\ge$ | $0$ | {non-negativity} |\n",
    "| | | | $x_{p}$ | $\\ge$ | $0$ | {non-negativity} |"
   ]
  },
  {
   "cell_type": "code",
   "execution_count": 31,
   "id": "3cf03f83-5812-43fe-b742-2ca3e02eff94",
   "metadata": {},
   "outputs": [],
   "source": [
    "# import necessary modules/packages\n",
    "import gurobipy as gp\n",
    "from gurobipy import GRB\n",
    "\n",
    "import pandas as pd"
   ]
  },
  {
   "cell_type": "code",
   "execution_count": 32,
   "id": "9c55ed7b-c1f1-4173-b400-554aab2b47a7",
   "metadata": {},
   "outputs": [
    {
     "name": "stdout",
     "output_type": "stream",
     "text": [
      "Gurobi Optimizer version 12.0.1 build v12.0.1rc0 (linux64 - \"Ubuntu 24.04.2 LTS\")\n",
      "\n",
      "CPU model: Intel(R) Core(TM) Ultra 7 155H, instruction set [SSE2|AVX|AVX2]\n",
      "Thread count: 11 physical cores, 22 logical processors, using up to 22 threads\n",
      "\n",
      "Optimize a model with 4 rows, 2 columns and 8 nonzeros\n",
      "Model fingerprint: 0xbb372ecc\n",
      "Coefficient statistics:\n",
      "  Matrix range     [1e+00, 4e+00]\n",
      "  Objective range  [5e+00, 8e+00]\n",
      "  Bounds range     [0e+00, 0e+00]\n",
      "  RHS range        [4e+02, 2e+03]\n",
      "Presolve time: 0.01s\n",
      "Presolved: 4 rows, 2 columns, 8 nonzeros\n",
      "\n",
      "Iteration    Objective       Primal Inf.    Dual Inf.      Time\n",
      "       0    1.3000000e+31   5.250000e+30   1.300000e+01      0s\n",
      "       4    5.0400000e+03   0.000000e+00   0.000000e+00      0s\n",
      "\n",
      "Solved in 4 iterations and 0.01 seconds (0.00 work units)\n",
      "Optimal objective  5.040000000e+03\n"
     ]
    }
   ],
   "source": [
    "####                ####\n",
    "#    ORIGINAL MODEL    #\n",
    "####                ####\n",
    "# Create the model object\n",
    "m = gp.Model('galaxy_toys')\n",
    "\n",
    "# Specify how to optimize and time limit (seconds)\n",
    "m.ModelSense = GRB.MAXIMIZE\n",
    "\n",
    "# You can set the time limit for the solving\n",
    "# unnecessary for this small problem\n",
    "#m.setParam('TimeLimit', 600)\n",
    "\n",
    "# Create decision variables\n",
    "# We tell the solver that the variables are continuous,\n",
    "#   their names, and their lower bounds\n",
    "x_s = m.addVar(vtype=GRB.CONTINUOUS, name='space_rays', lb=0.0)\n",
    "x_p = m.addVar(vtype=GRB.CONTINUOUS, name='phasers', lb=0.0)\n",
    "\n",
    "# Add the objective function\n",
    "m.setObjective(8 * x_s + 5 * x_p)\n",
    "\n",
    "# Add the constraints\n",
    "# We can simply write out the constraints for the first parameter\n",
    "# The second parameter names the constraint\n",
    "m.addConstr(2*x_s + x_p <= 1200, name='plastic')\n",
    "m.addConstr(3*x_s + 4*x_p <= 2400, name='labor')\n",
    "m.addConstr(x_s + x_p <= 800, name='total_production')\n",
    "m.addConstr(x_s - x_p <= 450, name='product_mix')\n",
    "\n",
    "# update the model\n",
    "m.update()\n",
    "\n",
    "# solve\n",
    "m.optimize()"
   ]
  },
  {
   "cell_type": "markdown",
   "id": "fa77a6b5-27c0-4cb1-a6cc-e9c3a740e0ba",
   "metadata": {},
   "source": [
    "## Getting the Results\n",
    "\n",
    "We now want to get the results and print them in a little nicer format. "
   ]
  },
  {
   "cell_type": "code",
   "execution_count": 33,
   "id": "0af72464-c927-44d6-870d-3edcbcd9c974",
   "metadata": {},
   "outputs": [
    {
     "name": "stdout",
     "output_type": "stream",
     "text": [
      "To generate the optimal profit of $5040.00, you should produce the following amounts:\n",
      "   space_rays = 480.0\n",
      "   phasers = 240.0\n"
     ]
    }
   ],
   "source": [
    "# Get the results out\n",
    "print(f'To generate the optimal profit of ${m.ObjVal:0.2f}, you should produce the following amounts:')\n",
    "for v in m.getVars():\n",
    "    print(f'   {v.VarName} = {v.X}')"
   ]
  },
  {
   "cell_type": "markdown",
   "id": "2ae028b5-a3c4-4776-9578-be3c3e190536",
   "metadata": {},
   "source": [
    "## Senstivity Analysis - Variables\n",
    "\n",
    "We are interested in the finding the reduced cost and range of optimality for each variable. To help us with this, I have created a function that will take in the model object and return a `pandas` `DataFrame` for easier readability."
   ]
  },
  {
   "cell_type": "code",
   "execution_count": 34,
   "id": "4b7933c3-bc3e-40f0-af51-5b4ca4fdb8ff",
   "metadata": {},
   "outputs": [],
   "source": [
    "# define a function to return the sensitivity analysis for the variables\n",
    "def get_SA_vars(the_model):\n",
    "    ''' \n",
    "    This is a helper function that collects all the sensitivity analysis \n",
    "    for the \"variable section\" that you would see in the sensitivity\n",
    "    report from Excel and returns it a as pandas DataFrame.\n",
    "\n",
    "    the_model : an instance of gp.Model \n",
    "\n",
    "    returns a pandas DataFrame\n",
    "    '''\n",
    "    var_sensitivity =[]\n",
    "    for v in the_model.getVars():\n",
    "        var_sensitivity.append([v.VarName, v.X, v.RC, v.Obj, v.SAObjLow, v.SAObjUp])\n",
    "\n",
    "    retValue = pd.DataFrame(var_sensitivity)\n",
    "    retValue.columns = ['variable', 'final_value', 'reduced_cost', 'obj_fn_coeff', 'range_opt_low', 'range_opt_up']\n",
    "\n",
    "    return retValue"
   ]
  },
  {
   "cell_type": "code",
   "execution_count": 35,
   "id": "f655f90b-a74e-430c-9591-f0aeaed3fe54",
   "metadata": {},
   "outputs": [
    {
     "data": {
      "text/html": [
       "<div>\n",
       "<style scoped>\n",
       "    .dataframe tbody tr th:only-of-type {\n",
       "        vertical-align: middle;\n",
       "    }\n",
       "\n",
       "    .dataframe tbody tr th {\n",
       "        vertical-align: top;\n",
       "    }\n",
       "\n",
       "    .dataframe thead th {\n",
       "        text-align: right;\n",
       "    }\n",
       "</style>\n",
       "<table border=\"1\" class=\"dataframe\">\n",
       "  <thead>\n",
       "    <tr style=\"text-align: right;\">\n",
       "      <th></th>\n",
       "      <th>variable</th>\n",
       "      <th>final_value</th>\n",
       "      <th>reduced_cost</th>\n",
       "      <th>obj_fn_coeff</th>\n",
       "      <th>range_opt_low</th>\n",
       "      <th>range_opt_up</th>\n",
       "    </tr>\n",
       "  </thead>\n",
       "  <tbody>\n",
       "    <tr>\n",
       "      <th>0</th>\n",
       "      <td>space_rays</td>\n",
       "      <td>480.0</td>\n",
       "      <td>0.0</td>\n",
       "      <td>8.0</td>\n",
       "      <td>3.75</td>\n",
       "      <td>10.000000</td>\n",
       "    </tr>\n",
       "    <tr>\n",
       "      <th>1</th>\n",
       "      <td>phasers</td>\n",
       "      <td>240.0</td>\n",
       "      <td>0.0</td>\n",
       "      <td>5.0</td>\n",
       "      <td>4.00</td>\n",
       "      <td>10.666667</td>\n",
       "    </tr>\n",
       "  </tbody>\n",
       "</table>\n",
       "</div>"
      ],
      "text/plain": [
       "     variable  final_value  reduced_cost  obj_fn_coeff  range_opt_low  \\\n",
       "0  space_rays        480.0           0.0           8.0           3.75   \n",
       "1     phasers        240.0           0.0           5.0           4.00   \n",
       "\n",
       "   range_opt_up  \n",
       "0     10.000000  \n",
       "1     10.666667  "
      ]
     },
     "execution_count": 35,
     "metadata": {},
     "output_type": "execute_result"
    }
   ],
   "source": [
    "# see if function works\n",
    "get_SA_vars(m)"
   ]
  },
  {
   "cell_type": "markdown",
   "id": "71761d0b-0fd6-478e-8931-d55508e75753",
   "metadata": {},
   "source": [
    "## Changing the Objective Function Coefficient for Space Rays\n",
    "\n",
    "Let's go ahead and change the objective function coefficient from the original \\\\$8 to \\\\$7 and re-run the solver to see what we get. If we understand what the range of optimality means, then you should be able to tell exactly what the result will be without having to solve the model. What is it?"
   ]
  },
  {
   "cell_type": "code",
   "execution_count": 36,
   "id": "9c698bc8-9232-4ee7-914d-5b9f8935d248",
   "metadata": {},
   "outputs": [
    {
     "name": "stdout",
     "output_type": "stream",
     "text": [
      "Gurobi Optimizer version 12.0.1 build v12.0.1rc0 (linux64 - \"Ubuntu 24.04.2 LTS\")\n",
      "\n",
      "CPU model: Intel(R) Core(TM) Ultra 7 155H, instruction set [SSE2|AVX|AVX2]\n",
      "Thread count: 11 physical cores, 22 logical processors, using up to 22 threads\n",
      "\n"
     ]
    },
    {
     "name": "stdout",
     "output_type": "stream",
     "text": [
      "Optimize a model with 4 rows, 2 columns and 8 nonzeros\n",
      "Coefficient statistics:\n",
      "  Matrix range     [1e+00, 4e+00]\n",
      "  Objective range  [5e+00, 7e+00]\n",
      "  Bounds range     [0e+00, 0e+00]\n",
      "  RHS range        [4e+02, 2e+03]\n",
      "LP warm-start: use basis\n",
      "\n",
      "Iteration    Objective       Primal Inf.    Dual Inf.      Time\n",
      "       0    4.5600000e+03   0.000000e+00   0.000000e+00      0s\n",
      "\n",
      "Solved in 0 iterations and 0.00 seconds (0.00 work units)\n",
      "Optimal objective  4.560000000e+03\n",
      "To generate the optimal profit of $4560.00, you should produce the following amounts:\n",
      "   space_rays = 480.0\n",
      "   phasers = 240.0\n"
     ]
    }
   ],
   "source": [
    "# Change the objective function\n",
    "m.setObjective(7 * x_s + 5 * x_p)\n",
    "m.update()\n",
    "m.optimize()\n",
    "\n",
    "# get the results\n",
    "print(f'To generate the optimal profit of ${m.ObjVal:0.2f}, you should produce the following amounts:')\n",
    "for v in m.getVars():\n",
    "    print(f'   {v.VarName} = {v.X}')"
   ]
  },
  {
   "cell_type": "code",
   "execution_count": 37,
   "id": "1eeca0b7-ee72-4593-a458-13e4c55e4301",
   "metadata": {},
   "outputs": [
    {
     "data": {
      "text/html": [
       "<div>\n",
       "<style scoped>\n",
       "    .dataframe tbody tr th:only-of-type {\n",
       "        vertical-align: middle;\n",
       "    }\n",
       "\n",
       "    .dataframe tbody tr th {\n",
       "        vertical-align: top;\n",
       "    }\n",
       "\n",
       "    .dataframe thead th {\n",
       "        text-align: right;\n",
       "    }\n",
       "</style>\n",
       "<table border=\"1\" class=\"dataframe\">\n",
       "  <thead>\n",
       "    <tr style=\"text-align: right;\">\n",
       "      <th></th>\n",
       "      <th>variable</th>\n",
       "      <th>final_value</th>\n",
       "      <th>reduced_cost</th>\n",
       "      <th>obj_fn_coeff</th>\n",
       "      <th>range_opt_low</th>\n",
       "      <th>range_opt_up</th>\n",
       "    </tr>\n",
       "  </thead>\n",
       "  <tbody>\n",
       "    <tr>\n",
       "      <th>0</th>\n",
       "      <td>space_rays</td>\n",
       "      <td>480.0</td>\n",
       "      <td>0.0</td>\n",
       "      <td>7.0</td>\n",
       "      <td>3.75</td>\n",
       "      <td>10.000000</td>\n",
       "    </tr>\n",
       "    <tr>\n",
       "      <th>1</th>\n",
       "      <td>phasers</td>\n",
       "      <td>240.0</td>\n",
       "      <td>0.0</td>\n",
       "      <td>5.0</td>\n",
       "      <td>3.50</td>\n",
       "      <td>9.333333</td>\n",
       "    </tr>\n",
       "  </tbody>\n",
       "</table>\n",
       "</div>"
      ],
      "text/plain": [
       "     variable  final_value  reduced_cost  obj_fn_coeff  range_opt_low  \\\n",
       "0  space_rays        480.0           0.0           7.0           3.75   \n",
       "1     phasers        240.0           0.0           5.0           3.50   \n",
       "\n",
       "   range_opt_up  \n",
       "0     10.000000  \n",
       "1      9.333333  "
      ]
     },
     "execution_count": 37,
     "metadata": {},
     "output_type": "execute_result"
    }
   ],
   "source": [
    "# Look at sensitivity analysis for variables again\n",
    "get_SA_vars(m)"
   ]
  },
  {
   "cell_type": "markdown",
   "id": "6f897f14-dbcf-4f0d-902c-91e47c70fca8",
   "metadata": {},
   "source": [
    "## Understanding Reduced Costs\n",
    "\n",
    "Both reduced costs were \\\\$0 because both variables were greater than zero. If we change the objective function coefficient for space rays to \\\\$2 and re-solve, we should see a reduced cost other than \\\\$0 show up. Let's try it."
   ]
  },
  {
   "cell_type": "code",
   "execution_count": 38,
   "id": "f4f41dc0-8dab-4451-beae-81d953499890",
   "metadata": {},
   "outputs": [
    {
     "name": "stdout",
     "output_type": "stream",
     "text": [
      "Gurobi Optimizer version 12.0.1 build v12.0.1rc0 (linux64 - \"Ubuntu 24.04.2 LTS\")\n",
      "\n",
      "CPU model: Intel(R) Core(TM) Ultra 7 155H, instruction set [SSE2|AVX|AVX2]\n",
      "Thread count: 11 physical cores, 22 logical processors, using up to 22 threads\n",
      "\n",
      "Optimize a model with 4 rows, 2 columns and 8 nonzeros\n",
      "Coefficient statistics:\n",
      "  Matrix range     [1e+00, 4e+00]\n",
      "  Objective range  [2e+00, 5e+00]\n",
      "  Bounds range     [0e+00, 0e+00]\n",
      "  RHS range        [4e+02, 2e+03]\n",
      "LP warm-start: use basis\n",
      "\n",
      "Iteration    Objective       Primal Inf.    Dual Inf.      Time\n",
      "       0    2.8000000e+30   1.600000e+30   2.800000e+00      0s\n",
      "       1    3.0000000e+03   0.000000e+00   0.000000e+00      0s\n",
      "\n",
      "Solved in 1 iterations and 0.01 seconds (0.00 work units)\n",
      "Optimal objective  3.000000000e+03\n",
      "To generate the optimal profit of $3000.00, you should produce the following amounts:\n",
      "   space_rays = 0.0\n",
      "   phasers = 600.0\n"
     ]
    }
   ],
   "source": [
    "# Change the objective function\n",
    "m.setObjective(2 * x_s + 5 * x_p)\n",
    "m.update()\n",
    "m.optimize()\n",
    "\n",
    "# get the results\n",
    "print(f'To generate the optimal profit of ${m.ObjVal:0.2f}, you should produce the following amounts:')\n",
    "for v in m.getVars():\n",
    "    print(f'   {v.VarName} = {v.X}')"
   ]
  },
  {
   "cell_type": "code",
   "execution_count": 39,
   "id": "650bb0dd-2fd9-473c-9c1b-66238cddac8c",
   "metadata": {},
   "outputs": [
    {
     "data": {
      "text/html": [
       "<div>\n",
       "<style scoped>\n",
       "    .dataframe tbody tr th:only-of-type {\n",
       "        vertical-align: middle;\n",
       "    }\n",
       "\n",
       "    .dataframe tbody tr th {\n",
       "        vertical-align: top;\n",
       "    }\n",
       "\n",
       "    .dataframe thead th {\n",
       "        text-align: right;\n",
       "    }\n",
       "</style>\n",
       "<table border=\"1\" class=\"dataframe\">\n",
       "  <thead>\n",
       "    <tr style=\"text-align: right;\">\n",
       "      <th></th>\n",
       "      <th>variable</th>\n",
       "      <th>final_value</th>\n",
       "      <th>reduced_cost</th>\n",
       "      <th>obj_fn_coeff</th>\n",
       "      <th>range_opt_low</th>\n",
       "      <th>range_opt_up</th>\n",
       "    </tr>\n",
       "  </thead>\n",
       "  <tbody>\n",
       "    <tr>\n",
       "      <th>0</th>\n",
       "      <td>space_rays</td>\n",
       "      <td>0.0</td>\n",
       "      <td>-1.75</td>\n",
       "      <td>2.0</td>\n",
       "      <td>-inf</td>\n",
       "      <td>3.75</td>\n",
       "    </tr>\n",
       "    <tr>\n",
       "      <th>1</th>\n",
       "      <td>phasers</td>\n",
       "      <td>600.0</td>\n",
       "      <td>0.00</td>\n",
       "      <td>5.0</td>\n",
       "      <td>2.666667</td>\n",
       "      <td>inf</td>\n",
       "    </tr>\n",
       "  </tbody>\n",
       "</table>\n",
       "</div>"
      ],
      "text/plain": [
       "     variable  final_value  reduced_cost  obj_fn_coeff  range_opt_low  \\\n",
       "0  space_rays          0.0         -1.75           2.0           -inf   \n",
       "1     phasers        600.0          0.00           5.0       2.666667   \n",
       "\n",
       "   range_opt_up  \n",
       "0          3.75  \n",
       "1           inf  "
      ]
     },
     "execution_count": 39,
     "metadata": {},
     "output_type": "execute_result"
    }
   ],
   "source": [
    "# Look at sensitivity analysis for variables again\n",
    "get_SA_vars(m)"
   ]
  },
  {
   "cell_type": "markdown",
   "id": "f28f3713-5b4a-44df-b8b2-f32062070a12",
   "metadata": {},
   "source": [
    "This means we would need to make the profit for space rays at least \\\\$2 + \\\\$1.75 = \\\\$3.75 before it becomes economically feaisble to produce space rays. Another way to think of the reduced cost is as follows. If you leave the profit for space rays at \\\\$2 and were forced to produce one lot/unit/dozen, what effect would that have on the profit? You can add an additional constraint $s \\geq 1$ and re-solve."
   ]
  },
  {
   "cell_type": "code",
   "execution_count": 40,
   "id": "0e2689c9-1ffa-4c7a-ae91-04765726206b",
   "metadata": {},
   "outputs": [
    {
     "name": "stdout",
     "output_type": "stream",
     "text": [
      "Maximize\n",
      "  2.0 space_rays + 5.0 phasers\n",
      "Subject To\n",
      "  plastic: 2.0 space_rays + phasers <= 1200\n",
      "  labor: 3.0 space_rays + 4.0 phasers <= 2400\n",
      "  total_production: space_rays + phasers <= 800\n",
      "  product_mix: space_rays + -1.0 phasers <= 450\n"
     ]
    },
    {
     "name": "stderr",
     "output_type": "stream",
     "text": [
      "/tmp/ipykernel_5706/70023011.py:2: DeprecationWarning: Model.display() is deprecated\n",
      "  m.display()\n"
     ]
    }
   ],
   "source": [
    "# look at the current model\n",
    "m.display()"
   ]
  },
  {
   "cell_type": "code",
   "execution_count": 41,
   "id": "4f6940fd-a3c1-47d1-a1ef-3c31d96c662e",
   "metadata": {},
   "outputs": [],
   "source": [
    "# Add forced production of 1 unit of space rays\n",
    "m.addConstr(x_s >= 1, name='force_space_rays')\n",
    "m.update()"
   ]
  },
  {
   "cell_type": "code",
   "execution_count": 42,
   "id": "29575aab-6f83-4eec-be39-7f9425e02c40",
   "metadata": {},
   "outputs": [
    {
     "name": "stdout",
     "output_type": "stream",
     "text": [
      "Maximize\n",
      "  2.0 space_rays + 5.0 phasers\n",
      "Subject To\n",
      "  plastic: 2.0 space_rays + phasers <= 1200\n",
      "  labor: 3.0 space_rays + 4.0 phasers <= 2400\n",
      "  total_production: space_rays + phasers <= 800\n",
      "  product_mix: space_rays + -1.0 phasers <= 450\n",
      "  force_space_rays: space_rays >= 1\n"
     ]
    },
    {
     "name": "stderr",
     "output_type": "stream",
     "text": [
      "/tmp/ipykernel_5706/137993151.py:1: DeprecationWarning: Model.display() is deprecated\n",
      "  m.display()\n"
     ]
    }
   ],
   "source": [
    "m.display()"
   ]
  },
  {
   "cell_type": "code",
   "execution_count": 43,
   "id": "bfef9c21-c65f-4fdd-aa3a-fc87fd0349a9",
   "metadata": {},
   "outputs": [
    {
     "name": "stdout",
     "output_type": "stream",
     "text": [
      "Gurobi Optimizer version 12.0.1 build v12.0.1rc0 (linux64 - \"Ubuntu 24.04.2 LTS\")\n",
      "\n",
      "CPU model: Intel(R) Core(TM) Ultra 7 155H, instruction set [SSE2|AVX|AVX2]\n",
      "Thread count: 11 physical cores, 22 logical processors, using up to 22 threads\n",
      "\n",
      "Optimize a model with 5 rows, 2 columns and 9 nonzeros\n",
      "Coefficient statistics:\n",
      "  Matrix range     [1e+00, 4e+00]\n",
      "  Objective range  [2e+00, 5e+00]\n",
      "  Bounds range     [0e+00, 0e+00]\n",
      "  RHS range        [1e+00, 2e+03]\n",
      "LP warm-start: use basis\n",
      "\n",
      "Iteration    Objective       Primal Inf.    Dual Inf.      Time\n",
      "       0    3.0000000e+03   1.000000e+00   0.000000e+00      0s\n",
      "       1    2.9982500e+03   0.000000e+00   0.000000e+00      0s\n",
      "\n",
      "Solved in 1 iterations and 0.01 seconds (0.00 work units)\n",
      "Optimal objective  2.998250000e+03\n",
      "To generate the optimal profit of $2998.25, you should produce the following amounts:\n",
      "   space_rays = 1.0\n",
      "   phasers = 599.25\n"
     ]
    }
   ],
   "source": [
    "m.optimize()\n",
    "\n",
    "# get the results\n",
    "print(f'To generate the optimal profit of ${m.ObjVal:0.2f}, you should produce the following amounts:')\n",
    "for v in m.getVars():\n",
    "    print(f'   {v.VarName} = {v.X}')"
   ]
  },
  {
   "cell_type": "markdown",
   "id": "04e24de0-8d2c-45bb-bf1f-438b664b5b7d",
   "metadata": {},
   "source": [
    "## Sensitivity Analysis for RHS of Constraints\n",
    "\n",
    "**Any** change in the right-hand-side value of a binding constraint will change the optimal solution. The optimal solution is not affected by changes in the RHS value of a non-binding constraint as long as the change is less than the slack or surplus and it is the only change made.\n",
    "\n",
    "We often want to answer the following questions:\n",
    "\n",
    "1. All else equal, how much would the optimal profit change if the RHS of a constraint is changed by a single unit?\n",
    "2. For how many additional or fewer units will this per unit change be valid?\n",
    "\n",
    "We can answer those questions with sensitivity analysis for the constraints. In particular, we are interested in the shadow price and the range of feasibility. The shadow price answers the first question above. The range of feasibility answers the second question. Within the range of feasibility, the same binding constraints that determine the optimal solution will remain the same. Recall, however, that the coordinates of the optimal solution (point) will change and the value of the objective function will also change.\n",
    "\n",
    "The code cell below defines a function to get the sensitivity analysis for the constraints into a easier to read format."
   ]
  },
  {
   "cell_type": "code",
   "execution_count": 44,
   "id": "2698d86d-521e-48a9-8cbb-90255d71d118",
   "metadata": {},
   "outputs": [],
   "source": [
    "# define a function to return the sensitivity analysis for the variables\n",
    "def get_SA_constraints(the_model):\n",
    "    constr_sensitivity = []\n",
    "    for c in the_model.getConstrs():\n",
    "        constr_sensitivity.append([c.constrName, c.RHS, the_model.getRow(c).getValue(), c.Slack, c.pi, c.SARHSLow, c.SARHSUp])\n",
    "\n",
    "    retValue = pd.DataFrame(constr_sensitivity)\n",
    "    retValue.columns = ['constraint', 'RHS', 'final_value', 'slack', 'shadow_price', 'range_feasibility_low', 'range_feasibility_up']\n",
    "\n",
    "    return retValue"
   ]
  },
  {
   "cell_type": "code",
   "execution_count": 45,
   "id": "1f34e671-7472-4f68-8445-f33486398e51",
   "metadata": {},
   "outputs": [
    {
     "name": "stdout",
     "output_type": "stream",
     "text": [
      "Gurobi Optimizer version 12.0.1 build v12.0.1rc0 (linux64 - \"Ubuntu 24.04.2 LTS\")\n",
      "\n",
      "CPU model: Intel(R) Core(TM) Ultra 7 155H, instruction set [SSE2|AVX|AVX2]\n",
      "Thread count: 11 physical cores, 22 logical processors, using up to 22 threads\n",
      "\n",
      "Optimize a model with 4 rows, 2 columns and 8 nonzeros\n",
      "Model fingerprint: 0xbb372ecc\n",
      "Coefficient statistics:\n",
      "  Matrix range     [1e+00, 4e+00]\n",
      "  Objective range  [5e+00, 8e+00]\n",
      "  Bounds range     [0e+00, 0e+00]\n",
      "  RHS range        [4e+02, 2e+03]\n",
      "Presolve time: 0.00s\n",
      "Presolved: 4 rows, 2 columns, 8 nonzeros\n",
      "\n",
      "Iteration    Objective       Primal Inf.    Dual Inf.      Time\n",
      "       0    1.3000000e+31   5.250000e+30   1.300000e+01      0s\n",
      "       4    5.0400000e+03   0.000000e+00   0.000000e+00      0s\n",
      "\n",
      "Solved in 4 iterations and 0.01 seconds (0.00 work units)\n",
      "Optimal objective  5.040000000e+03\n"
     ]
    }
   ],
   "source": [
    "# Now go back to the original model\n",
    "####                ####\n",
    "#    ORIGINAL MODEL    #\n",
    "####                ####\n",
    "# Create the model object\n",
    "m = gp.Model('galaxy_toys')\n",
    "\n",
    "# Specify how to optimize and time limit (seconds)\n",
    "m.ModelSense = GRB.MAXIMIZE\n",
    "\n",
    "# You can set the time limit for the solving\n",
    "# unnecessary for this small problem\n",
    "#m.setParam('TimeLimit', 600)\n",
    "\n",
    "# Create decision variables\n",
    "# We tell the solver that the variables are continuous,\n",
    "#   their names, and their lower bounds\n",
    "x_s = m.addVar(vtype=GRB.CONTINUOUS, name='space_rays', lb=0.0)\n",
    "x_p = m.addVar(vtype=GRB.CONTINUOUS, name='phasers', lb=0.0)\n",
    "\n",
    "# Add the objective function\n",
    "m.setObjective(8 * x_s + 5 * x_p)\n",
    "\n",
    "# Add the constraints\n",
    "# We can simply write out the constraints for the first parameter\n",
    "# The second parameter names the constraint\n",
    "m.addConstr(2*x_s + x_p <= 1200, name='plastic')\n",
    "m.addConstr(3*x_s + 4*x_p <= 2400, name='labor')\n",
    "m.addConstr(x_s + x_p <= 800, name='total_production')\n",
    "m.addConstr(x_s - x_p <= 450, name='product_mix')\n",
    "\n",
    "# update the model\n",
    "m.update()\n",
    "\n",
    "# solve\n",
    "m.optimize()"
   ]
  },
  {
   "cell_type": "code",
   "execution_count": 46,
   "id": "b36676a2-0d0f-480f-ae5b-7a974bac7579",
   "metadata": {},
   "outputs": [
    {
     "name": "stdout",
     "output_type": "stream",
     "text": [
      "Maximize\n",
      "  8.0 space_rays + 5.0 phasers\n",
      "Subject To\n",
      "  plastic: 2.0 space_rays + phasers <= 1200\n",
      "  labor: 3.0 space_rays + 4.0 phasers <= 2400\n",
      "  total_production: space_rays + phasers <= 800\n",
      "  product_mix: space_rays + -1.0 phasers <= 450\n"
     ]
    },
    {
     "name": "stderr",
     "output_type": "stream",
     "text": [
      "/tmp/ipykernel_5706/137993151.py:1: DeprecationWarning: Model.display() is deprecated\n",
      "  m.display()\n"
     ]
    }
   ],
   "source": [
    "m.display()"
   ]
  },
  {
   "cell_type": "code",
   "execution_count": 47,
   "id": "0fea593d-6512-4296-a65b-b2b639ad110f",
   "metadata": {},
   "outputs": [
    {
     "name": "stdout",
     "output_type": "stream",
     "text": [
      "To generate the optimal profit of $5040.00, you should produce the following amounts:\n",
      "   space_rays = 480.0\n",
      "   phasers = 240.0\n"
     ]
    }
   ],
   "source": [
    "# get the results\n",
    "print(f'To generate the optimal profit of ${m.ObjVal:0.2f}, you should produce the following amounts:')\n",
    "for v in m.getVars():\n",
    "    print(f'   {v.VarName} = {v.X}')"
   ]
  },
  {
   "cell_type": "code",
   "execution_count": 48,
   "id": "b5e95430-5834-41e4-aef5-500ed35e2c41",
   "metadata": {},
   "outputs": [
    {
     "data": {
      "text/html": [
       "<div>\n",
       "<style scoped>\n",
       "    .dataframe tbody tr th:only-of-type {\n",
       "        vertical-align: middle;\n",
       "    }\n",
       "\n",
       "    .dataframe tbody tr th {\n",
       "        vertical-align: top;\n",
       "    }\n",
       "\n",
       "    .dataframe thead th {\n",
       "        text-align: right;\n",
       "    }\n",
       "</style>\n",
       "<table border=\"1\" class=\"dataframe\">\n",
       "  <thead>\n",
       "    <tr style=\"text-align: right;\">\n",
       "      <th></th>\n",
       "      <th>constraint</th>\n",
       "      <th>RHS</th>\n",
       "      <th>final_value</th>\n",
       "      <th>slack</th>\n",
       "      <th>shadow_price</th>\n",
       "      <th>range_feasibility_low</th>\n",
       "      <th>range_feasibility_up</th>\n",
       "    </tr>\n",
       "  </thead>\n",
       "  <tbody>\n",
       "    <tr>\n",
       "      <th>0</th>\n",
       "      <td>plastic</td>\n",
       "      <td>1200.0</td>\n",
       "      <td>1200.0</td>\n",
       "      <td>0.0</td>\n",
       "      <td>3.4</td>\n",
       "      <td>600.0</td>\n",
       "      <td>1350.0</td>\n",
       "    </tr>\n",
       "    <tr>\n",
       "      <th>1</th>\n",
       "      <td>labor</td>\n",
       "      <td>2400.0</td>\n",
       "      <td>2400.0</td>\n",
       "      <td>0.0</td>\n",
       "      <td>0.4</td>\n",
       "      <td>2050.0</td>\n",
       "      <td>2800.0</td>\n",
       "    </tr>\n",
       "    <tr>\n",
       "      <th>2</th>\n",
       "      <td>total_production</td>\n",
       "      <td>800.0</td>\n",
       "      <td>720.0</td>\n",
       "      <td>80.0</td>\n",
       "      <td>0.0</td>\n",
       "      <td>720.0</td>\n",
       "      <td>inf</td>\n",
       "    </tr>\n",
       "    <tr>\n",
       "      <th>3</th>\n",
       "      <td>product_mix</td>\n",
       "      <td>450.0</td>\n",
       "      <td>240.0</td>\n",
       "      <td>210.0</td>\n",
       "      <td>0.0</td>\n",
       "      <td>240.0</td>\n",
       "      <td>inf</td>\n",
       "    </tr>\n",
       "  </tbody>\n",
       "</table>\n",
       "</div>"
      ],
      "text/plain": [
       "         constraint     RHS  final_value  slack  shadow_price  \\\n",
       "0           plastic  1200.0       1200.0    0.0           3.4   \n",
       "1             labor  2400.0       2400.0    0.0           0.4   \n",
       "2  total_production   800.0        720.0   80.0           0.0   \n",
       "3       product_mix   450.0        240.0  210.0           0.0   \n",
       "\n",
       "   range_feasibility_low  range_feasibility_up  \n",
       "0                  600.0                1350.0  \n",
       "1                 2050.0                2800.0  \n",
       "2                  720.0                   inf  \n",
       "3                  240.0                   inf  "
      ]
     },
     "execution_count": 48,
     "metadata": {},
     "output_type": "execute_result"
    }
   ],
   "source": [
    "# Get sensistivity for constraints\n",
    "get_SA_constraints(m)"
   ]
  },
  {
   "cell_type": "markdown",
   "id": "24cf1162-f6cd-4708-bcd5-d24f2af81bda",
   "metadata": {},
   "source": [
    "### Changing RHS of Constraint\n",
    "\n",
    "Let's change the RHS of the plastic constraint by adding one additional pound. What will the resulting objective function value?\n",
    "\n",
    "The easiest way to do this is get the constraint by name and then change its right-hand-side value."
   ]
  },
  {
   "cell_type": "code",
   "execution_count": 49,
   "id": "f4e07efe-b0db-42c9-8566-ea137bfdc65d",
   "metadata": {},
   "outputs": [
    {
     "name": "stdout",
     "output_type": "stream",
     "text": [
      "1200.0\n"
     ]
    }
   ],
   "source": [
    "# We can pull out a specific constraint by its name\n",
    "# Let's get plastic and store it a Python variable named plastic\n",
    "plastic = m.getConstrByName('plastic')\n",
    "print(plastic.rhs)"
   ]
  },
  {
   "cell_type": "code",
   "execution_count": 50,
   "id": "f1a81e87-872a-4c81-a283-f062b0430fb4",
   "metadata": {},
   "outputs": [
    {
     "name": "stdout",
     "output_type": "stream",
     "text": [
      "Gurobi Optimizer version 12.0.1 build v12.0.1rc0 (linux64 - \"Ubuntu 24.04.2 LTS\")\n",
      "\n",
      "CPU model: Intel(R) Core(TM) Ultra 7 155H, instruction set [SSE2|AVX|AVX2]\n",
      "Thread count: 11 physical cores, 22 logical processors, using up to 22 threads\n",
      "\n",
      "Optimize a model with 4 rows, 2 columns and 8 nonzeros\n",
      "Coefficient statistics:\n",
      "  Matrix range     [1e+00, 4e+00]\n",
      "  Objective range  [5e+00, 8e+00]\n",
      "  Bounds range     [0e+00, 0e+00]\n",
      "  RHS range        [4e+02, 2e+03]\n",
      "LP warm-start: use basis\n",
      "\n",
      "Iteration    Objective       Primal Inf.    Dual Inf.      Time\n",
      "       0    5.0434000e+03   0.000000e+00   0.000000e+00      0s\n",
      "\n",
      "Solved in 0 iterations and 0.01 seconds (0.00 work units)\n",
      "Optimal objective  5.043400000e+03\n",
      "To generate the optimal profit of $5043.40, you should produce the following amounts:\n",
      "   space_rays = 480.8\n",
      "   phasers = 239.39999999999998\n"
     ]
    }
   ],
   "source": [
    "# Now update the RHS with one additional pound of plastic\n",
    "plastic.rhs = 1201\n",
    "\n",
    "# Update the model and solve it\n",
    "m.update()\n",
    "m.optimize()\n",
    "\n",
    "# get the results\n",
    "print(f'To generate the optimal profit of ${m.ObjVal:0.2f}, you should produce the following amounts:')\n",
    "for v in m.getVars():\n",
    "    print(f'   {v.VarName} = {v.X}')"
   ]
  },
  {
   "cell_type": "markdown",
   "id": "cb52f29e-24bc-4f6d-973e-fceac5065875",
   "metadata": {},
   "source": [
    "## Multiple Optimal Solutions\n",
    "\n",
    "Can we find multiple optimal solutions? We saw one case where both the reduced cost and the value of the decision variable was 0 indicating that perhaps multiple optimal solutions existed. The second case was not like that. Let's examine the second case because it seems more interesting. In this instance, space rays bring in \\\\$9 of profit and phasers bring in \\\\$4.50 of profit. We also need to go back to the original 1200 pounds of plastic."
   ]
  },
  {
   "cell_type": "code",
   "execution_count": 51,
   "id": "fd9628ba-5c50-4ca7-99e9-5826d0531bc6",
   "metadata": {},
   "outputs": [
    {
     "name": "stdout",
     "output_type": "stream",
     "text": [
      "Current RHS of plastic constraint is 1201.0\n",
      "After changing RHS of back to original is 1200.0\n"
     ]
    }
   ],
   "source": [
    "# reset the rhs of the plastic constraint to 1200\n",
    "print(f'Current RHS of plastic constraint is {plastic.rhs}')\n",
    "\n",
    "plastic.rhs = 1200\n",
    "\n",
    "# update the model\n",
    "m.update()\n",
    "\n",
    "print(f'After changing RHS of back to original is {plastic.rhs}')"
   ]
  },
  {
   "cell_type": "code",
   "execution_count": 52,
   "id": "3fc0d08b-b8de-4a23-bd6b-6e86f0d5795b",
   "metadata": {},
   "outputs": [
    {
     "name": "stdout",
     "output_type": "stream",
     "text": [
      "Gurobi Optimizer version 12.0.1 build v12.0.1rc0 (linux64 - \"Ubuntu 24.04.2 LTS\")\n",
      "\n",
      "CPU model: Intel(R) Core(TM) Ultra 7 155H, instruction set [SSE2|AVX|AVX2]\n",
      "Thread count: 11 physical cores, 22 logical processors, using up to 22 threads\n",
      "\n",
      "Optimize a model with 4 rows, 2 columns and 8 nonzeros\n",
      "Coefficient statistics:\n",
      "  Matrix range     [1e+00, 4e+00]\n",
      "  Objective range  [4e+00, 9e+00]\n",
      "  Bounds range     [0e+00, 0e+00]\n",
      "  RHS range        [4e+02, 2e+03]\n",
      "LP warm-start: use basis\n",
      "\n",
      "Iteration    Objective       Primal Inf.    Dual Inf.      Time\n",
      "       0    5.4000000e+03   0.000000e+00   0.000000e+00      0s\n",
      "\n",
      "Solved in 0 iterations and 0.01 seconds (0.00 work units)\n",
      "Optimal objective  5.400000000e+03\n",
      "To generate the optimal profit of $5400.00, you should produce the following amounts:\n",
      "   space_rays = 480.0\n",
      "   phasers = 240.0\n"
     ]
    }
   ],
   "source": [
    "# change the objective function\n",
    "m.setObjective(9 * x_s + 4.5 * x_p)\n",
    "m.update()\n",
    "m.optimize()\n",
    "\n",
    "# get the results\n",
    "print(f'To generate the optimal profit of ${m.ObjVal:0.2f}, you should produce the following amounts:')\n",
    "for v in m.getVars():\n",
    "    print(f'   {v.VarName} = {v.X}')"
   ]
  },
  {
   "cell_type": "code",
   "execution_count": 53,
   "id": "60ae9a4a-6131-4a2b-ade9-c4397a032030",
   "metadata": {},
   "outputs": [
    {
     "data": {
      "text/html": [
       "<div>\n",
       "<style scoped>\n",
       "    .dataframe tbody tr th:only-of-type {\n",
       "        vertical-align: middle;\n",
       "    }\n",
       "\n",
       "    .dataframe tbody tr th {\n",
       "        vertical-align: top;\n",
       "    }\n",
       "\n",
       "    .dataframe thead th {\n",
       "        text-align: right;\n",
       "    }\n",
       "</style>\n",
       "<table border=\"1\" class=\"dataframe\">\n",
       "  <thead>\n",
       "    <tr style=\"text-align: right;\">\n",
       "      <th></th>\n",
       "      <th>variable</th>\n",
       "      <th>final_value</th>\n",
       "      <th>reduced_cost</th>\n",
       "      <th>obj_fn_coeff</th>\n",
       "      <th>range_opt_low</th>\n",
       "      <th>range_opt_up</th>\n",
       "    </tr>\n",
       "  </thead>\n",
       "  <tbody>\n",
       "    <tr>\n",
       "      <th>0</th>\n",
       "      <td>space_rays</td>\n",
       "      <td>480.0</td>\n",
       "      <td>0.0</td>\n",
       "      <td>9.0</td>\n",
       "      <td>3.375</td>\n",
       "      <td>9.0</td>\n",
       "    </tr>\n",
       "    <tr>\n",
       "      <th>1</th>\n",
       "      <td>phasers</td>\n",
       "      <td>240.0</td>\n",
       "      <td>0.0</td>\n",
       "      <td>4.5</td>\n",
       "      <td>4.500</td>\n",
       "      <td>12.0</td>\n",
       "    </tr>\n",
       "  </tbody>\n",
       "</table>\n",
       "</div>"
      ],
      "text/plain": [
       "     variable  final_value  reduced_cost  obj_fn_coeff  range_opt_low  \\\n",
       "0  space_rays        480.0           0.0           9.0          3.375   \n",
       "1     phasers        240.0           0.0           4.5          4.500   \n",
       "\n",
       "   range_opt_up  \n",
       "0           9.0  \n",
       "1          12.0  "
      ]
     },
     "execution_count": 53,
     "metadata": {},
     "output_type": "execute_result"
    }
   ],
   "source": [
    "# Get the reduced cost and range of optimality for each variable\n",
    "get_SA_vars(m)"
   ]
  },
  {
   "cell_type": "markdown",
   "id": "8fba5d25-722d-4449-ad5d-c4f1f8d8ab11",
   "metadata": {},
   "source": [
    "### How to Find Other Optimal Solutions\n",
    "\n",
    "That answer only showed a single solution. We can ask Gurobi to find multiple solutions and then look at those."
   ]
  },
  {
   "cell_type": "code",
   "execution_count": 54,
   "id": "d028ab07-1803-4fa8-8e19-cfd5f8049207",
   "metadata": {},
   "outputs": [
    {
     "name": "stdout",
     "output_type": "stream",
     "text": [
      "Set parameter PoolSearchMode to value 2\n",
      "Gurobi Optimizer version 12.0.1 build v12.0.1rc0 (linux64 - \"Ubuntu 24.04.2 LTS\")\n",
      "\n",
      "CPU model: Intel(R) Core(TM) Ultra 7 155H, instruction set [SSE2|AVX|AVX2]\n",
      "Thread count: 11 physical cores, 22 logical processors, using up to 22 threads\n",
      "\n",
      "Non-default parameters:\n",
      "PoolSearchMode  2\n",
      "\n",
      "Optimize a model with 4 rows, 2 columns and 8 nonzeros\n",
      "Coefficient statistics:\n",
      "  Matrix range     [1e+00, 4e+00]\n",
      "  Objective range  [4e+00, 9e+00]\n",
      "  Bounds range     [0e+00, 0e+00]\n",
      "  RHS range        [4e+02, 2e+03]\n",
      "\n",
      "Solved in 0 iterations and 0.00 seconds (0.00 work units)\n",
      "Optimal objective  5.400000000e+03\n",
      "Optimization found an OPTIMAL answer with the status of 2\n",
      "Number of solutions found: 1\n"
     ]
    }
   ],
   "source": [
    "# do a systematic search for the k-best solutions\n",
    "m.setParam(GRB.Param.PoolSearchMode, 2)\n",
    "\n",
    "# Update the model\n",
    "m.update()\n",
    "\n",
    "# Solve\n",
    "m.optimize()\n",
    "\n",
    "# Get the status\n",
    "status = m.Status\n",
    "if status in (GRB.INF_OR_UNBD, GRB.INFEASIBLE, GRB.UNBOUNDED):\n",
    "    print('The model cannot be solved because it is infeasible or unbounded')\n",
    "\n",
    "if status != GRB.OPTIMAL:\n",
    "    print('Optimization was stopped with status ' + str(status))\n",
    "\n",
    "if status == GRB.OPTIMAL:\n",
    "    print(f'Optimization found an OPTIMAL answer with the status of {status}')\n",
    "\n",
    "# Print number of solutions stored\n",
    "nSolutions = m.SolCount\n",
    "print('Number of solutions found: ' + str(nSolutions))"
   ]
  },
  {
   "cell_type": "markdown",
   "id": "f412b390-43da-4562-a64e-9e408299d49b",
   "metadata": {},
   "source": [
    "#### Why Only 1 Solution?\n",
    "\n",
    "When the variables are continuous and you have multiple optimal solutions, you will in fact have an **infinite** number of optimal solutions. Therefore, the solver will not try to search for more than one. Which one did it find?"
   ]
  },
  {
   "cell_type": "code",
   "execution_count": 55,
   "id": "b1538494-33c0-4b41-b7f4-f7963e942e4f",
   "metadata": {},
   "outputs": [
    {
     "name": "stdout",
     "output_type": "stream",
     "text": [
      "   space_rays = 480.0\n",
      "   phasers = 240.0\n"
     ]
    }
   ],
   "source": [
    "for v in m.getVars():\n",
    "    print(f'   {v.VarName} = {v.X}')"
   ]
  },
  {
   "cell_type": "markdown",
   "id": "73b757ea-04de-45df-84c2-e699c6085cbc",
   "metadata": {},
   "source": [
    "#### Another Possible Approach?\n",
    "\n",
    "Because the optimal solution found above is integer, you could try converting both variables to integer instead of continuous and re-solving the updated model. When dealing with integer or binary variables, Gurobi will try to find other optimal solutions."
   ]
  },
  {
   "cell_type": "code",
   "execution_count": 56,
   "id": "6137686c-da39-423f-897f-6d30c8a88874",
   "metadata": {},
   "outputs": [
    {
     "name": "stdout",
     "output_type": "stream",
     "text": [
      "Variable space_rays is currently of type C\n",
      "Variable phasers is currently of type C\n",
      "After setting the variables to integer ...\n",
      "Variable space_rays is currently of type I\n",
      "Variable phasers is currently of type I\n"
     ]
    }
   ],
   "source": [
    "# change the variable types to integer\n",
    "for var in m.getVars():\n",
    "    print(f'Variable {var.VarName} is currently of type {var.VTYPE}')\n",
    "    var.setAttr(GRB.Attr.VType, GRB.INTEGER)\n",
    "\n",
    "# update the model for changes to take effect\n",
    "m.update()\n",
    "print('After setting the variables to integer ...')\n",
    "for var in m.getVars():\n",
    "    print(f'Variable {var.VarName} is currently of type {var.VTYPE}')"
   ]
  },
  {
   "cell_type": "code",
   "execution_count": 57,
   "id": "b21fcadc-af90-4fd1-b6a0-af314a3a7a18",
   "metadata": {},
   "outputs": [
    {
     "name": "stdout",
     "output_type": "stream",
     "text": [
      "Gurobi Optimizer version 12.0.1 build v12.0.1rc0 (linux64 - \"Ubuntu 24.04.2 LTS\")\n",
      "\n",
      "CPU model: Intel(R) Core(TM) Ultra 7 155H, instruction set [SSE2|AVX|AVX2]\n",
      "Thread count: 11 physical cores, 22 logical processors, using up to 22 threads\n",
      "\n",
      "Non-default parameters:\n",
      "PoolSearchMode  2\n",
      "\n",
      "Optimize a model with 4 rows, 2 columns and 8 nonzeros\n",
      "Model fingerprint: 0x55205400\n",
      "Variable types: 0 continuous, 2 integer (0 binary)\n",
      "Coefficient statistics:\n",
      "  Matrix range     [1e+00, 4e+00]\n",
      "  Objective range  [4e+00, 9e+00]\n",
      "  Bounds range     [0e+00, 0e+00]\n",
      "  RHS range        [4e+02, 2e+03]\n",
      "Found heuristic solution: objective 5229.0000000\n",
      "Presolve removed 1 rows and 0 columns\n",
      "Presolve time: 0.00s\n",
      "Presolved: 3 rows, 2 columns, 6 nonzeros\n",
      "Variable types: 0 continuous, 2 integer (0 binary)\n",
      "\n",
      "Root relaxation: objective 5.400000e+03, 1 iterations, 0.00 seconds (0.00 work units)\n",
      "\n",
      "    Nodes    |    Current Node    |     Objective Bounds      |     Work\n",
      " Expl Unexpl |  Obj  Depth IntInf | Incumbent    BestBd   Gap | It/Node Time\n",
      "\n",
      "*    0     0               0    5400.0000000 5400.00000  0.00%     -    0s\n",
      "\n",
      "Optimal solution found at node 0 - now completing solution pool...\n",
      "\n",
      "    Nodes    |    Current Node    |      Pool Obj. Bounds     |     Work\n",
      "             |                    |   Worst                   |\n",
      " Expl Unexpl |  Obj  Depth IntInf | Incumbent    BestBd   Gap | It/Node Time\n",
      "\n",
      "     0     0          -    0               - 5400.00000      -     -    0s\n",
      "     0     0          -    0               - 5400.00000      -     -    0s\n",
      "     0     2          -    0               - 5400.00000      -     -    0s\n",
      "\n",
      "Explored 136 nodes (26 simplex iterations) in 0.03 seconds (0.00 work units)\n",
      "Thread count was 22 (of 22 available processors)\n",
      "\n",
      "Solution count 10: 5400 5400 5400 ... 5400\n",
      "No other solutions better than 5400\n",
      "\n",
      "Optimal solution found (tolerance 1.00e-04)\n",
      "Best objective 5.400000000000e+03, best bound 5.400000000000e+03, gap 0.0000%\n",
      "Number of solutions found: 10\n"
     ]
    }
   ],
   "source": [
    "# Solve\n",
    "m.optimize()\n",
    "\n",
    "# Print number of solutions stored\n",
    "nSolutions = m.SolCount\n",
    "print(f'Number of solutions found: {nSolutions}')"
   ]
  },
  {
   "cell_type": "code",
   "execution_count": 58,
   "id": "7d03474e-9cc6-4a31-8186-493763b512d8",
   "metadata": {},
   "outputs": [
    {
     "name": "stdout",
     "output_type": "stream",
     "text": [
      "solution 0 has obj fn value of 5400.0\n",
      "   space_rays = 550.0\n",
      "   phasers = 100.0\n",
      "solution 1 has obj fn value of 5400.0\n",
      "   space_rays = 482.0\n",
      "   phasers = 236.00000000000003\n",
      "solution 2 has obj fn value of 5400.0\n",
      "   space_rays = 516.0\n",
      "   phasers = 168.0\n",
      "solution 3 has obj fn value of 5400.0\n",
      "   space_rays = 508.0\n",
      "   phasers = 184.0\n",
      "solution 4 has obj fn value of 5400.0\n",
      "   space_rays = 542.0\n",
      "   phasers = 116.0\n",
      "solution 5 has obj fn value of 5400.0\n",
      "   space_rays = 499.0\n",
      "   phasers = 202.0\n",
      "solution 6 has obj fn value of 5400.0\n",
      "   space_rays = 491.0\n",
      "   phasers = 218.0\n",
      "solution 7 has obj fn value of 5400.0\n",
      "   space_rays = 533.0\n",
      "   phasers = 134.0\n",
      "solution 8 has obj fn value of 5400.0\n",
      "   space_rays = 525.0\n",
      "   phasers = 150.0\n",
      "solution 9 has obj fn value of 5400.0\n",
      "   space_rays = 514.0\n",
      "   phasers = 172.0\n"
     ]
    }
   ],
   "source": [
    "# Print objective value and values of the decision varaibles of solutions\n",
    "for soln_num in range(m.getAttr(GRB.Attr.SolCount)):\n",
    "    m.Params.SolutionNumber = soln_num\n",
    "    print(f'solution {soln_num} has obj fn value of {m.PoolObjVal}')\n",
    "    for v in m.getVars():\n",
    "        # Need to use v.Xn to the value of the variable v for this solution\n",
    "        print(f'   {v.VarName} = {v.Xn}')"
   ]
  },
  {
   "cell_type": "markdown",
   "id": "6370edef-5795-4982-bd8d-f4181276780f",
   "metadata": {},
   "source": [
    "### Success!\n",
    "\n",
    "When using integer variables, we can get multiple optimal solutions with Gurobi. Note that within in solution you need to use `v.Xn`, where `v` is the variable, to get the values of the decision variables."
   ]
  },
  {
   "cell_type": "markdown",
   "id": "ca6ce787-cf3d-4ab8-a61f-f6f9f58d4625",
   "metadata": {
    "deletable": false,
    "editable": false,
    "slideshow": {
     "slide_type": ""
    },
    "tags": []
   },
   "source": [
    "**&copy; 2024 - Present: Matthew D. Dean, Ph.D.   \n",
    "Clinical Full Professor of Business Analytics at William \\& Mary.**"
   ]
  }
 ],
 "metadata": {
  "kernelspec": {
   "display_name": ".venv",
   "language": "python",
   "name": "python3"
  },
  "language_info": {
   "codemirror_mode": {
    "name": "ipython",
    "version": 3
   },
   "file_extension": ".py",
   "mimetype": "text/x-python",
   "name": "python",
   "nbconvert_exporter": "python",
   "pygments_lexer": "ipython3",
   "version": "3.12.3"
  }
 },
 "nbformat": 4,
 "nbformat_minor": 5
}
