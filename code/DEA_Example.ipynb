{
 "cells": [
  {
   "cell_type": "markdown",
   "id": "e27f4a86-0525-464e-8871-7ef5a5995ad7",
   "metadata": {},
   "source": [
    "# Data Envelopment Analysis (DEA)\n",
    "\n",
    "DEA is commonly used to evaluate the efficiency of a number of producers, commonly referred to as decision making units (DMUs). Each DMU uses a set of inputs to produce a set of outputs. The inputs and outputs can have very different units. DEA assumes that the inputs and outputs have been correctly identified, therefore, it is vitally important that any DEA analysis focus on correctly specifying the inputs and outputs.\n",
    "\n",
    "The underlying assumption to DEA is that if a given DMU is capable of producing the outputs with the given inputs, the other DMUs should also be able to do the same. Otherwise, it is **inefficient**. Given multiple efficient DMUs, other DMUs could theoretically be created as a combination of the efficient DMUs to make other efficient DMUs. Doing so creates a virtual, composite DMU. DEA analysis attempts to find the \"best\" virtual, composite DMU for each real DMU. "
   ]
  },
  {
   "cell_type": "markdown",
   "id": "7b6d6b86-1b9f-42fd-b74f-1a2bc64b7148",
   "metadata": {},
   "source": [
    "# Example \n",
    "\n",
    "There are three hospitals and we want to know if each one is efficient or inefficient. Each hospital uses two inputs: (1) capital, measured in the hundreds of hospital beds and (2) labor, measured in thousands of labor hours per month. The outputs produced by each hospital are: (1) hundreds of patient-days during the month for patients under the age of 14, (2) hundreds of patient-days during the month for patients between 14 and 65, and (3) hundreds of patient-days during the month for patients over 65.\n",
    "\n",
    "The inputs and ouputs for each hospital are shwon in the table below.\n",
    "\n",
    "\n",
    "| Hospital | Capital | Labor | &#124; | <=14 | 14-65 | >=65 |\n",
    "| :---: | :---: | :---: | :---: | :---: | :---: | :---: |\n",
    "| 1 | 5 | 14 | &#124; | 9 | 4 | 16 |\n",
    "| 2 | 8 | 15 | &#124; | 5 | 7 | 10 |\n",
    "| 3 | 7 | 12 | &#124; | 4 | 9 | 13 |\n",
    "\n",
    "The efficiency of a given hospital is $$\\frac{\\textrm{value of hospital's outputs}}{\\textrm{cost of hospital's inputs}}$$\n",
    "\n",
    "To formulate this problem, we need to define the variables. \n",
    "| | | |\n",
    "| --- | --- | --- |\n",
    "| Let | | |\n",
    "| $x_{i}$ | = | the \"cost\" of one unit of input $i$ |\n",
    "| $y_{j}$ | = | the value of one unit of output $j$ |\n",
    "\n",
    "We can now write each hospital's efficiency mathematically as follows:\n",
    "\n",
    "$$\n",
    "\\textrm{Hospital 1 Efficiency} = \\frac{9y_{1} + 4y_{2} + 16y_{3}}{5x_{1}+14x_{2}}\n",
    "$$\n",
    "\n",
    "$$\n",
    "\\textrm{Hospital 2 Efficiency} = \\frac{5y_{1} + 7y_{2} + 10y_{3}}{8x_{1}+15x_{2}}\n",
    "$$\n",
    "\n",
    "$$\n",
    "\\textrm{Hospital 3 Efficiency} = \\frac{4y_{1} + 9y_{2} + 13y_{3}}{7x_{1}+12x_{2}}\n",
    "$$\n",
    "\n",
    "The DEA approach uses the following ideas to determine if a hospital is efficient.\n",
    "\n",
    "1. No hospital can be more than 100% efficient.\n",
    "2. We attempt to choose output \"prices\" and input \"costs\" that maximize efficiency. If the efficiency equals 1, then the hospital efficient. If the efficiency is less than 1, then it is inefficient\n",
    "3. To simplify computations, we may scale the inputs so that the cost of a hospital inputs equals 1.\n",
    "4. Sometimes, we want to ensure that each input cost and output value/price is strictly positive.\n",
    "\n",
    "We need to create an LP for each of the DMUs (e.g., hospitals) and solve them."
   ]
  },
  {
   "cell_type": "markdown",
   "id": "71b6b30b-ba85-4f8d-9551-efc392f42382",
   "metadata": {},
   "source": [
    "## Formulation \n",
    "\n",
    "### Hospital 1\n",
    "\n",
    "| | | |\n",
    "| --- | --- | --- |\n",
    "| Let | | |\n",
    "| $x_{1}$ | = | the \"cost\" of one unit of capital input |\n",
    "| $x_{2}$ | = | the \"cost\" of one unit of labor input |\n",
    "| $y_{1}$ | = | the value of one unit of <=14 patient-days output |\n",
    "| $y_{2}$ | = | the value of one unit of 14-65 patient-days output |\n",
    "| $y_{3}$ | = | the value of one unit of >=65 patient-days output |\n",
    "\n",
    "| | | | | | | | | | | | | |\n",
    "| --- | --- | --- | --- | --- | --- | --- | --- | --- | --- | --- | --- | --- |\n",
    "| $\\max$ | $9y_{1}$ | $+$ | $4y_{2}$ | $+$ | $16y_{3}$ | |\n",
    "| s.t. | $-9y_{1}$ | $-$ | $4y_{2}$ | $-$ | $16y_{3}$ | $+$ | $5x_{1}$ | $+$ | $14x_{2}$ |$\\ge$ | $0$ | {Hospital 1 No More Than 100% Efficient} |\n",
    "| | $-5y_{1}$ | $-$ | $7y_{2}$ | $-$ | $10y_{3}$ | $+$ | $8x_{1}$ | $+$ | $15x_{2}$ |$\\ge$ | $0$ | {Hospital 2 No More Than 100% Efficient} |\n",
    "| | $-4y_{1}$ | $-$ | $9y_{2}$ | $-$ | $13y_{3}$ | $+$ | $7x_{1}$ | $+$ | $12x_{2}$ |$\\ge$ | $0$ | {Hospital 3 No More Than 100% Efficient} |\n",
    "| | | | | | | | $5x_{1}$ | $+$ | $14x_{2}$ |$=$ | $1$ | {Total Input Cost of 1} |\n",
    "\n",
    "### Hospital 2\n",
    "| | | | | | | | | | | | | |\n",
    "| --- | --- | --- | --- | --- | --- | --- | --- | --- | --- | --- | --- | --- |\n",
    "| $\\max$ | $5y_{1}$ | $+$ | $7y_{2}$ | $+$ | $10y_{3}$ | |\n",
    "| s.t. | $-9y_{1}$ | $-$ | $4y_{2}$ | $-$ | $16y_{3}$ | $+$ | $5x_{1}$ | $+$ | $14x_{2}$ |$\\ge$ | $0$ | {Hospital 1 No More Than 100% Efficient} |\n",
    "| | $-5y_{1}$ | $-$ | $7y_{2}$ | $-$ | $10y_{3}$ | $+$ | $8x_{1}$ | $+$ | $15x_{2}$ |$\\ge$ | $0$ | {Hospital 2 No More Than 100% Efficient} |\n",
    "| | $-4y_{1}$ | $-$ | $9y_{2}$ | $-$ | $13y_{3}$ | $+$ | $7x_{1}$ | $+$ | $12x_{2}$ |$\\ge$ | $0$ | {Hospital 3 No More Than 100% Efficient} |\n",
    "| | | | | | | | $8x_{1}$ | $+$ | $15x_{2}$ |$=$ | $1$ | {Total Input Cost of 1} |\n",
    "\n",
    "### Hospital 3\n",
    "| | | | | | | | | | | | | |\n",
    "| --- | --- | --- | --- | --- | --- | --- | --- | --- | --- | --- | --- | --- |\n",
    "| $\\max$ | $4y_{1}$ | $+$ | $9y_{2}$ | $+$ | $13y_{3}$ | |\n",
    "| s.t. | $-9y_{1}$ | $-$ | $4y_{2}$ | $-$ | $16y_{3}$ | $+$ | $5x_{1}$ | $+$ | $14x_{2}$ |$\\ge$ | $0$ | {Hospital 1 No More Than 100% Efficient} |\n",
    "| | $-5y_{1}$ | $-$ | $7y_{2}$ | $-$ | $10y_{3}$ | $+$ | $8x_{1}$ | $+$ | $15x_{2}$ |$\\ge$ | $0$ | {Hospital 2 No More Than 100% Efficient} |\n",
    "| | $-4y_{1}$ | $-$ | $9y_{2}$ | $-$ | $13y_{3}$ | $+$ | $7x_{1}$ | $+$ | $12x_{2}$ |$\\ge$ | $0$ | {Hospital 3 No More Than 100% Efficient} |\n",
    "| | | | | | | | $7x_{1}$ | $+$ | $12x_{2}$ |$=$ | $1$ | {Total Input Cost of 1} |\n"
   ]
  },
  {
   "cell_type": "code",
   "execution_count": null,
   "id": "3cf03f83-5812-43fe-b742-2ca3e02eff94",
   "metadata": {},
   "outputs": [],
   "source": [
    "# import necessary modules/packages\n",
    "import gurobipy as gp\n",
    "from gurobipy import GRB\n",
    "\n",
    "import pandas as pd"
   ]
  },
  {
   "cell_type": "code",
   "execution_count": null,
   "id": "4b7933c3-bc3e-40f0-af51-5b4ca4fdb8ff",
   "metadata": {},
   "outputs": [],
   "source": [
    "# define a function to return the sensitivity analysis for the variables\n",
    "def get_SA_vars(the_model):\n",
    "    ''' \n",
    "    This is a helper function that collects all the sensitivity analysis \n",
    "    for the \"variable section\" that you would see in the sensitivity\n",
    "    report from Excel and returns it a as pandas DataFrame.\n",
    "\n",
    "    the_model : an instance of gp.Model \n",
    "\n",
    "    returns a pandas DataFrame\n",
    "    '''\n",
    "    var_sensitivity =[]\n",
    "    for v in the_model.getVars():\n",
    "        var_sensitivity.append([v.VarName, v.X, v.RC, v.Obj, v.SAObjLow, v.SAObjUp])\n",
    "\n",
    "    retValue = pd.DataFrame(var_sensitivity)\n",
    "    retValue.columns = ['variable', 'final_value', 'reduced_cost', 'obj_fn_coeff', 'range_opt_low', 'range_opt_up']\n",
    "\n",
    "    return retValue"
   ]
  },
  {
   "cell_type": "code",
   "execution_count": null,
   "id": "8ded5b41-c7ad-4ad7-a362-b3120b90e06b",
   "metadata": {},
   "outputs": [],
   "source": [
    "# define a function to return the sensitivity analysis for the variables\n",
    "def get_SA_constraints(the_model):\n",
    "    constr_sensitivity = []\n",
    "    for c in the_model.getConstrs():\n",
    "        constr_sensitivity.append([c.constrName, c.RHS, the_model.getRow(c).getValue(), c.Slack, c.pi, c.SARHSLow, c.SARHSUp])\n",
    "\n",
    "    retValue = pd.DataFrame(constr_sensitivity)\n",
    "    retValue.columns = ['constraint', 'RHS', 'final_value', 'slack', 'shadow_price', 'range_feasibility_low', 'range_feasibility_up']\n",
    "\n",
    "    return retValue"
   ]
  },
  {
   "cell_type": "code",
   "execution_count": null,
   "id": "9c55ed7b-c1f1-4173-b400-554aab2b47a7",
   "metadata": {},
   "outputs": [],
   "source": [
    "####                ####\n",
    "#      HOSPITAL 1      #\n",
    "####                ####\n",
    "# Create the model object\n",
    "h1 = gp.Model('hospital_1')\n",
    "\n",
    "# Specify how to optimize and time limit (seconds)\n",
    "h1.ModelSense = GRB.MAXIMIZE\n",
    "\n",
    "# You can set the time limit for the solving\n",
    "# unnecessary for this small problem\n",
    "#m.setParam('TimeLimit', 600)\n",
    "\n",
    "# Create decision variables\n",
    "# We tell the solver that the variables are continuous,\n",
    "#   their names, and their lower bounds\n",
    "# INPUTS\n",
    "x_1 = h1.addVar(vtype=GRB.CONTINUOUS, name='capital', lb=0.0)\n",
    "x_2 = h1.addVar(vtype=GRB.CONTINUOUS, name='labor', lb=0.0)\n",
    "\n",
    "# OUTPUTS\n",
    "y_1 = h1.addVar(vtype=GRB.CONTINUOUS, name='under_14', lb=0.0)\n",
    "y_2 = h1.addVar(vtype=GRB.CONTINUOUS, name='14_65', lb=0.0)\n",
    "y_3 = h1.addVar(vtype=GRB.CONTINUOUS, name='over_65', lb=0.0)\n",
    "\n",
    "# Add the objective function\n",
    "h1.setObjective(9*y_1 + 4*y_2 + 16*y_3)\n",
    "\n",
    "# Add the constraints\n",
    "# We can simply write out the constraints for the first parameter\n",
    "# The second parameter names the constraint\n",
    "h1.addConstr(5*x_1 + 14*x_2 - 9*y_1 - 4*y_2 - 16*y_3 >= 0, name='h1_no_more_100%')\n",
    "h1.addConstr(8*x_1 + 15*x_2 - 5*y_1 - 7*y_2 - 10*y_3 >= 0, name='h2_no_more_100%')\n",
    "h1.addConstr(7*x_1 + 12*x_2 - 4*y_1 - 9*y_2 - 13*y_3 >= 0, name='h3_no_more_100%')\n",
    "h1.addConstr(5*x_1 + 14*x_2 == 1, name='total_cost_1')\n",
    "\n",
    "# update the model\n",
    "h1.update()\n",
    "\n",
    "# solve\n",
    "h1.optimize()"
   ]
  },
  {
   "cell_type": "markdown",
   "id": "94d22e13-f1bd-4a59-b8c5-26683882c759",
   "metadata": {},
   "source": [
    "### Hospital 1 Efficient?\n",
    "\n",
    "Yes! We seee that the objective function is 1, meaning that hospital 1 is efficient."
   ]
  },
  {
   "cell_type": "code",
   "execution_count": null,
   "id": "f655f90b-a74e-430c-9591-f0aeaed3fe54",
   "metadata": {},
   "outputs": [],
   "source": [
    "# get sensitivty for variables\n",
    "get_SA_vars(h1)"
   ]
  },
  {
   "cell_type": "code",
   "execution_count": null,
   "id": "d9a9fe39-9641-4b8e-ba6a-3fcc2a0d0932",
   "metadata": {},
   "outputs": [],
   "source": [
    "# Get sensitivity for constraints\n",
    "get_SA_constraints(h1)"
   ]
  },
  {
   "cell_type": "code",
   "execution_count": null,
   "id": "3cc3bcde-0de2-4f20-ab27-d51604b7f381",
   "metadata": {},
   "outputs": [],
   "source": [
    "####                ####\n",
    "#      HOSPITAL 2      #\n",
    "####                ####\n",
    "# Create the model object\n",
    "h2 = gp.Model('hospital_2')\n",
    "\n",
    "# Specify how to optimize and time limit (seconds)\n",
    "h2.ModelSense = GRB.MAXIMIZE\n",
    "\n",
    "# Create decision variables\n",
    "# We tell the solver that the variables are continuous,\n",
    "#   their names, and their lower bounds\n",
    "# INPUTS\n",
    "x_1 = h2.addVar(vtype=GRB.CONTINUOUS, name='capital', lb=0.0)\n",
    "x_2 = h2.addVar(vtype=GRB.CONTINUOUS, name='labor', lb=0.0)\n",
    "\n",
    "# OUTPUTS\n",
    "y_1 = h2.addVar(vtype=GRB.CONTINUOUS, name='under_14', lb=0.0)\n",
    "y_2 = h2.addVar(vtype=GRB.CONTINUOUS, name='14_65', lb=0.0)\n",
    "y_3 = h2.addVar(vtype=GRB.CONTINUOUS, name='over_65', lb=0.0)\n",
    "\n",
    "# Add the objective function\n",
    "h2.setObjective(5*y_1 + 7*y_2 + 10*y_3)\n",
    "\n",
    "# Add the constraints\n",
    "# We can simply write out the constraints for the first parameter\n",
    "# The second parameter names the constraint\n",
    "h2.addConstr(5*x_1 + 14*x_2 - 9*y_1 - 4*y_2 - 16*y_3 >= 0, name='h1_no_more_100%')\n",
    "h2.addConstr(8*x_1 + 15*x_2 - 5*y_1 - 7*y_2 - 10*y_3 >= 0, name='h2_no_more_100%')\n",
    "h2.addConstr(7*x_1 + 12*x_2 - 4*y_1 - 9*y_2 - 13*y_3 >= 0, name='h3_no_more_100%')\n",
    "h2.addConstr(8*x_1 + 15*x_2 == 1, name='total_cost_1')\n",
    "\n",
    "# update the model\n",
    "h2.update()\n",
    "\n",
    "# solve\n",
    "h2.optimize()"
   ]
  },
  {
   "cell_type": "markdown",
   "id": "76a1814d-752d-49ba-9ae0-4d5badec7114",
   "metadata": {},
   "source": [
    "### Hospital 2 Efficient?\n",
    "\n",
    "You tell me"
   ]
  },
  {
   "cell_type": "code",
   "execution_count": null,
   "id": "7d6a7dac-ee47-4174-b1d8-53c005266e1f",
   "metadata": {},
   "outputs": [],
   "source": [
    "# get sensitivity for variables\n",
    "get_SA_vars(h2)"
   ]
  },
  {
   "cell_type": "code",
   "execution_count": null,
   "id": "0c035911-fb19-4ae0-9adc-becb4a1c434d",
   "metadata": {},
   "outputs": [],
   "source": [
    "# Get sensistivity for constraints\n",
    "get_SA_constraints(h2)"
   ]
  },
  {
   "cell_type": "code",
   "execution_count": null,
   "id": "67c3270d-377f-44d8-a851-6892819f90bd",
   "metadata": {},
   "outputs": [],
   "source": [
    "####                ####\n",
    "#      HOSPITAL 3      #\n",
    "####                ####\n",
    "# Create the model object\n",
    "h3 = gp.Model('hospital_3')\n",
    "\n",
    "# Specify how to optimize\n",
    "h3.ModelSense = GRB.MAXIMIZE\n",
    "\n",
    "# Create decision variables\n",
    "# We tell the solver that the variables are continuous,\n",
    "#   their names, and their lower bounds\n",
    "# INPUTS\n",
    "x_1 = h3.addVar(vtype=GRB.CONTINUOUS, name='capital', lb=0.0)\n",
    "x_2 = h3.addVar(vtype=GRB.CONTINUOUS, name='labor', lb=0.0)\n",
    "\n",
    "# OUTPUTS\n",
    "y_1 = h3.addVar(vtype=GRB.CONTINUOUS, name='under_14', lb=0.0)\n",
    "y_2 = h3.addVar(vtype=GRB.CONTINUOUS, name='14_65', lb=0.0)\n",
    "y_3 = h3.addVar(vtype=GRB.CONTINUOUS, name='over_65', lb=0.0)\n",
    "\n",
    "# Add the objective function\n",
    "h3.setObjective(4*y_1 + 9*y_2 + 13*y_3)\n",
    "\n",
    "# Add the constraints\n",
    "# We can simply write out the constraints for the first parameter\n",
    "# The second parameter names the constraint\n",
    "h3.addConstr(5*x_1 + 14*x_2 - 9*y_1 - 4*y_2 - 16*y_3 >= 0, name='h1_no_more_100%')\n",
    "h3.addConstr(8*x_1 + 15*x_2 - 5*y_1 - 7*y_2 - 10*y_3 >= 0, name='h2_no_more_100%')\n",
    "h3.addConstr(7*x_1 + 12*x_2 - 4*y_1 - 9*y_2 - 13*y_3 >= 0, name='h3_no_more_100%')\n",
    "h3.addConstr(7*x_1 + 12*x_2 == 1, name='total_cost_1')\n",
    "\n",
    "# update the model\n",
    "h3.update()\n",
    "\n",
    "# solve\n",
    "h3.optimize()"
   ]
  },
  {
   "cell_type": "markdown",
   "id": "6a3c06a9-26ba-4a50-94a0-27ee538cc537",
   "metadata": {},
   "source": [
    "### Hospital 3 Efficient?\n",
    "\n",
    "You tell me"
   ]
  },
  {
   "cell_type": "code",
   "execution_count": null,
   "id": "091d9d5c-6eff-4b36-ace9-160f6d97f42c",
   "metadata": {},
   "outputs": [],
   "source": [
    "# get sensitivity for variables\n",
    "get_SA_vars(h3)"
   ]
  },
  {
   "cell_type": "code",
   "execution_count": null,
   "id": "b5e95430-5834-41e4-aef5-500ed35e2c41",
   "metadata": {},
   "outputs": [],
   "source": [
    "# Get sensistivity for constraints\n",
    "get_SA_constraints(h3)"
   ]
  },
  {
   "cell_type": "markdown",
   "id": "5e4ba141-eef3-4a88-b160-49f32d2671c2",
   "metadata": {},
   "source": [
    "## Looking at Inefficiency\n",
    "\n",
    "We saw that hospital 2 was inefficient, i.e., the objective function value was less than 1. What can we say about its inefficiency?\n",
    "\n",
    "We would like to create composite hospital by combining the efficient hospitals is some fashion. We can do this by looking at the nonzero \"shadow prices\" (also called dual values) of the other hospitals. Let's pull that information out again to see it."
   ]
  },
  {
   "cell_type": "code",
   "execution_count": null,
   "id": "d822993c-7fc6-40b3-a094-1d49e3edce82",
   "metadata": {},
   "outputs": [],
   "source": [
    "# Get sensistivity for constraints storing it in a variable\n",
    "h2_sens = get_SA_constraints(h2)\n",
    "h2_sens"
   ]
  },
  {
   "cell_type": "markdown",
   "id": "e86e7a8c-8416-4813-9588-480982ac644a",
   "metadata": {},
   "source": [
    "## Creating a Composite Hospital\n",
    "\n",
    "Both hospital 1 and hospital 2 have nonzero shadow prices. We can use the absolute values of these shadow prices as weights to get a composite hospital. We want to use those values to get an averaged output vector and averaged input vector."
   ]
  },
  {
   "cell_type": "markdown",
   "id": "ca6ce787-cf3d-4ab8-a61f-f6f9f58d4625",
   "metadata": {
    "deletable": false,
    "editable": false,
    "slideshow": {
     "slide_type": ""
    },
    "tags": []
   },
   "source": [
    "**&copy; 2024 - Present: Matthew D. Dean, Ph.D.   \n",
    "Clinical Full Professor of Business Analytics at William \\& Mary.**"
   ]
  }
 ],
 "metadata": {
  "kernelspec": {
   "display_name": "Python 3 (ipykernel)",
   "language": "python",
   "name": "python3"
  },
  "language_info": {
   "codemirror_mode": {
    "name": "ipython",
    "version": 3
   },
   "file_extension": ".py",
   "mimetype": "text/x-python",
   "name": "python",
   "nbconvert_exporter": "python",
   "pygments_lexer": "ipython3",
   "version": "3.12.7"
  }
 },
 "nbformat": 4,
 "nbformat_minor": 5
}
